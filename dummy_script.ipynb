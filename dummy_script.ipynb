{
 "cells": [
  {
   "cell_type": "markdown",
   "metadata": {},
   "source": [
    "In each data fold, there is a raw data subfolder and a syn data subfolder, which represent the raw data collection without synchronisation but with high precise timestep, and the synchronised data but without high precise timestep.\n",
    "\n",
    "Here is the header of the sensor file and ground truth file.\n",
    "\n",
    "## vicon (vi*.csv)\n",
    "\n",
    "Time  Header  translation.x translation.y translation.z rotation.x rotation.y rotation.z rotation.w\n",
    "\n",
    "## Sensors (imu*.csv)\n",
    "\n",
    "Time attitude_roll(radians) attitude_pitch(radians) attitude_yaw(radians) rotation_rate_x(radians/s) rotation_rate_y(radians/s) rotation_rate_z(radians/s) gravity_x(G) gravity_y(G) gravity_z(G) user_acc_x(G) user_acc_y(G) user_acc_z(G) magnetic_field_x(microteslas) magnetic_field_y(microteslas) magnetic_field_z(microteslas)\n",
    "\n",
    "## Structure\n",
    "\n",
    "In this folder\n",
    "```\n",
    "user@fedora ~/C/magnetic_localization (master)> ls data/Oxford\\ Inertial\\ Odometry\\ Dataset/handheld/data1/syn/\n",
    "imu1.csv*  imu4.csv*  imu7.csv*  vi3.csv*  vi6.csv*\n",
    "imu2.csv*  imu5.csv*  vi1.csv*   vi4.csv*  vi7.csv*\n",
    "imu3.csv*  imu6.csv*  vi2.csv*   vi5.csv*\n",
    "user@fedora ~/C/magnetic_localization (master)> ls data/Oxford\\ Inertial\\ Odometry\\ Dataset/handheld/data2/syn/\n",
    "imu1.csv*  imu2.csv*  imu3.csv*  vi1.csv*  vi2.csv*  vi3.csv*\n",
    "user@fedora ~/C/magnetic_localization (master)> ls data/Oxford\\ Inertial\\ Odometry\\ Dataset/handheld/\n",
    "data1/  data3/  data5/          Test.txt*\n",
    "data2/  data4/  handheld.xlsx*  Train.txt*\n",
    "user@fedora ~/C/magnetic_localization (master)> pwd\n",
    "/home/user/Code/magnetic_localization\n",
    "```\n",
    "\n",
    "Also like each of them are the same length, so no need to sync the timesteps\n",
    "```\n",
    "user@fedora ~/C/magnetic_localization (master)> cat data/Oxford\\ Inertial\\ Odometry\\ Dataset/handheld/data1/syn/imu2.csv |wc\n",
    "  23446   23446 3282548\n",
    "user@fedora ~/C/magnetic_localization (master)> cat data/Oxford\\ Inertial\\ Odometry\\ Dataset/handheld/data1/syn/vi2.csv |wc\n",
    "  23446   23446 1740520\n",
    "```\n",
    "\n",
    "Just fucking ignore the Time and Header\n",
    "\n",
    "## Some more Information(exact structure)\n",
    "```\n",
    "user@fedora ~/C/m/d/O/h/d/syn (master)> pwd\n",
    "/home/user/Code/magnetic_localization/data/Oxford Inertial Odometry Dataset/handheld/data1/syn\n",
    "user@fedora ~/C/m/d/O/h/d/syn (master)> ls\n",
    "imu1.csv*  imu4.csv*  imu7.csv*  vi3.csv*  vi6.csv*\n",
    "imu2.csv*  imu5.csv*  vi1.csv*   vi4.csv*  vi7.csv*\n",
    "imu3.csv*  imu6.csv*  vi2.csv*   vi5.csv*\n",
    "user@fedora ~/C/m/d/O/h/d/syn (master)> cat imu1.csv |head -n 1\n",
    "1.50E+11,0.003649,0.44925,-0.21255,0.036483,-0.029496,0.020632,0.003286,-0.43429,-0.90077,-0.002798,0.014599,-0.016836,-2.3577,-0.3717,-42.347\n",
    "user@fedora ~/C/m/d/O/h/d/syn (master)> cat vi1.csv |head -n 1\n",
    "1.50E+11,12978,-1.2991,1.7212,1.1931,-0.21409,-0.012459,-0.097183,0.97189\n",
    "user@fedora ~/C/m/d/O/h/d/syn (master)> \n",
    "```\n",
    "\n",
    "## Goal\n",
    "\n",
    "Our goal is to predict the current `x`, `y`, `z` based on the previous all previous data(but not previous `x`, `y`, `z`)"
   ]
  },
  {
   "cell_type": "code",
   "execution_count": null,
   "metadata": {},
   "outputs": [],
   "source": []
  }
 ],
 "metadata": {
  "kernelspec": {
   "display_name": "mlenv",
   "language": "python",
   "name": "python3"
  },
  "language_info": {
   "codemirror_mode": {
    "name": "ipython",
    "version": 3
   },
   "file_extension": ".py",
   "mimetype": "text/x-python",
   "name": "python",
   "nbconvert_exporter": "python",
   "pygments_lexer": "ipython3",
   "version": "3.12.4"
  }
 },
 "nbformat": 4,
 "nbformat_minor": 2
}
