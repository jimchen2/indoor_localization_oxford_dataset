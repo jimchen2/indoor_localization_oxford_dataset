{
 "cells": [
  {
   "cell_type": "markdown",
   "metadata": {},
   "source": [
    "## **Import**"
   ]
  },
  {
   "cell_type": "code",
   "execution_count": 1,
   "metadata": {
    "jupyter": {
     "source_hidden": true
    }
   },
   "outputs": [
    {
     "name": "stdout",
     "output_type": "stream",
     "text": [
      "Using device: cpu\n"
     ]
    }
   ],
   "source": [
    "import csv\n",
    "import numpy as np\n",
    "import torch\n",
    "import torch.nn as nn\n",
    "from PIL import Image\n",
    "import pandas as pd\n",
    "import random\n",
    "import os\n",
    "from sklearn.model_selection import train_test_split\n",
    "import numpy as np\n",
    "import torch\n",
    "import torch.nn as nn\n",
    "from torch.utils.data import Dataset, DataLoader\n",
    "from sklearn.preprocessing import StandardScaler\n",
    "from tqdm import tqdm\n",
    "import random\n",
    "\n",
    "import numpy as np\n",
    "from sklearn.metrics import mean_squared_error, mean_absolute_error, r2_score\n",
    "\n",
    "\n",
    "import matplotlib.pyplot as plt\n",
    "import shutil\n",
    "from ipywidgets import interact, fixed\n",
    "from ipywidgets import widgets\n",
    "from ipywidgets import interactive, widgets\n",
    "from IPython.display import display\n",
    "from ipywidgets import interactive, widgets, HBox, VBox\n",
    "\n",
    "from datetime import datetime\n",
    "import socket\n",
    "device = torch.device(\"cuda\" if torch.cuda.is_available() else \"cpu\")\n",
    "print(f\"Using device: {device}\")\n",
    "if torch.cuda.is_available():\n",
    "    print(f\"Using GPU: {torch.cuda.get_device_name(0)}\")\n",
    "    print(torch.cuda.device_count())\n",
    "    for i in range(torch.cuda.device_count()):\n",
    "        print(f\"GPU {i}: {torch.cuda.get_device_name(i)}\")"
   ]
  },
  {
   "cell_type": "markdown",
   "metadata": {},
   "source": [
    "## **Proprocess Data to Raw Data for Training**"
   ]
  },
  {
   "cell_type": "code",
   "execution_count": 13,
   "metadata": {},
   "outputs": [
    {
     "name": "stdout",
     "output_type": "stream",
     "text": [
      "Training Dataset Statistics:\n",
      "x: mean=198.29, std=46.17, min=110.07, max=280.11\n",
      "y: mean=126.14, std=10.28, min=113.32, max=135.56\n",
      "Bv: mean=21.89, std=10.15, min=0.00, max=245.15\n",
      "Bh: mean=40.03, std=10.46, min=0.54, max=176.57\n",
      "Bp: mean=46.53, std=11.36, min=12.23, max=280.31\n",
      "Testing Dataset Statistics:\n",
      "x: mean=196.62, std=43.72, min=110.10, max=280.11\n",
      "y: mean=122.79, std=10.21, min=113.32, max=135.55\n",
      "Bv: mean=20.41, std=9.01, min=0.01, max=53.97\n",
      "Bh: mean=40.75, std=8.54, min=17.15, max=71.88\n",
      "Bp: mean=46.47, std=8.48, min=22.44, max=78.12\n"
     ]
    }
   ],
   "source": [
    "PIXEL_TO_METER_SCALE = 13.913\n",
    "image = Image.open(\"data/map/hkust_4f.jpg\")\n",
    "image = image.resize((int(image.size[0] / PIXEL_TO_METER_SCALE), \n",
    "                      int(image.size[1] / PIXEL_TO_METER_SCALE))).transpose(Image.FLIP_TOP_BOTTOM)\n",
    "\n",
    "def process_csv_file(csv_path, image_size, pixel_to_meter_scale):\n",
    "    path_data = {'x':[], 'y':[], \"Bv\":[], \"Bh\":[], \"Bp\":[]}\n",
    "    \n",
    "    with open(csv_path, 'r') as file:\n",
    "        reader = csv.reader(file)\n",
    "        header = next(reader)  # Skip the header\n",
    "        \n",
    "        for row in reader:\n",
    "            x = float(row[3]) / pixel_to_meter_scale\n",
    "            y = - float(row[4]) / pixel_to_meter_scale + image_size[1]\n",
    "            Bv = float(row[0])\n",
    "            Bh = float(row[1])\n",
    "            Bp = float(row[2])\n",
    "            \n",
    "            path_data[\"x\"].append(x)\n",
    "            path_data[\"y\"].append(y)\n",
    "            path_data[\"Bv\"].append(Bv)\n",
    "            path_data[\"Bh\"].append(Bh)\n",
    "            path_data[\"Bp\"].append(Bp)\n",
    "    \n",
    "    return path_data\n",
    "\n",
    "\n",
    "train_raw_data = []\n",
    "data_path = os.path.join(\".\", \"data\", \"formatted\", \"HKUST_4F\", \"training data\")\n",
    "\n",
    "for root, _, files in os.walk(data_path):\n",
    "    for file in files:\n",
    "        if file.endswith('.csv'):\n",
    "            train_raw_data.append(process_csv_file(os.path.join(root, file), image.size, PIXEL_TO_METER_SCALE))\n",
    "\n",
    "test_raw_data = []\n",
    "test_data_path = os.path.join(\".\", \"data\", \"formatted\", \"HKUST_4F\", \"testing data\")\n",
    "\n",
    "for root, _, files in os.walk(test_data_path):\n",
    "    for file in files:\n",
    "        if file.endswith('.csv'):\n",
    "            test_raw_data.append(process_csv_file(os.path.join(root, file), image.size, PIXEL_TO_METER_SCALE))\n",
    "\n",
    "\n",
    "def calculate_stats(data_list, key):\n",
    "    values = np.concatenate([np.array(d[key]) for d in data_list])\n",
    "    return {\n",
    "        'mean': np.mean(values),\n",
    "        'std': np.std(values),\n",
    "        'min': np.min(values),\n",
    "        'max': np.max(values)\n",
    "    }\n",
    "\n",
    "keys = ['x', 'y', 'Bv', 'Bh', 'Bp']\n",
    "\n",
    "print(\"Training Dataset Statistics:\")\n",
    "for key in keys:\n",
    "    stats = calculate_stats(train_raw_data, key)\n",
    "    print(f\"{key}: mean={stats['mean']:.2f}, std={stats['std']:.2f}, min={stats['min']:.2f}, max={stats['max']:.2f}\")\n",
    "\n",
    "print(\"Testing Dataset Statistics:\")\n",
    "for key in keys:\n",
    "    stats = calculate_stats(test_raw_data, key)\n",
    "    print(f\"{key}: mean={stats['mean']:.2f}, std={stats['std']:.2f}, min={stats['min']:.2f}, max={stats['max']:.2f}\")\n",
    "            "
   ]
  },
  {
   "cell_type": "code",
   "execution_count": 12,
   "metadata": {},
   "outputs": [
    {
     "name": "stdout",
     "output_type": "stream",
     "text": [
      "Potential outlier file: ./data/formatted/HKUST_4F/training data/5/pocket4.csv\n",
      "Bv: max=33.48, min=8.52, mean=21.47, std=5.20\n",
      "Bh: max=75.06, min=35.32, mean=51.53, std=9.28\n",
      "Bp: max=79.86, min=36.34, mean=56.03, std=9.50\n",
      "\n",
      "Potential outlier file: ./data/formatted/HKUST_4F/training data/5/chest3.csv\n",
      "Bv: max=40.59, min=4.90, mean=27.15, std=6.38\n",
      "Bh: max=67.83, min=12.41, mean=52.79, std=9.60\n",
      "Bp: max=75.68, min=15.23, mean=59.49, std=10.86\n",
      "\n",
      "Potential outlier file: ./data/formatted/HKUST_4F/training data/5/swing1.csv\n",
      "Bv: max=43.99, min=0.04, mean=17.82, std=9.76\n",
      "Bh: max=88.21, min=36.44, mean=61.83, std=11.13\n",
      "Bp: max=97.98, min=36.66, mean=64.92, std=12.05\n",
      "\n",
      "Potential outlier file: ./data/formatted/HKUST_4F/training data/5/swing3.csv\n",
      "Bv: max=71.18, min=11.20, mean=51.77, std=12.55\n",
      "Bh: max=87.45, min=27.92, mean=48.77, std=13.53\n",
      "Bp: max=99.57, min=42.38, mean=72.68, std=10.78\n",
      "\n",
      "Potential outlier file: ./data/formatted/HKUST_4F/training data/5/swing4.csv\n",
      "Bv: max=68.79, min=29.59, mean=53.08, std=7.39\n",
      "Bh: max=81.82, min=10.00, mean=59.38, std=15.14\n",
      "Bp: max=102.77, min=31.76, mean=80.18, std=14.05\n",
      "\n",
      "Potential outlier file: ./data/formatted/HKUST_4F/training data/5/swing2.csv\n",
      "Bv: max=41.41, min=0.02, mean=10.43, std=8.62\n",
      "Bh: max=71.86, min=11.61, mean=41.46, std=13.28\n",
      "Bp: max=71.86, min=14.94, mean=44.11, std=11.50\n",
      "\n",
      "Potential outlier file: ./data/formatted/HKUST_4F/training data/5/chest4.csv\n",
      "Bv: max=43.50, min=14.40, mean=27.82, std=5.32\n",
      "Bh: max=62.59, min=22.72, mean=44.77, std=8.51\n",
      "Bp: max=71.98, min=27.06, mean=52.85, std=9.27\n",
      "\n",
      "Potential outlier file: ./data/formatted/HKUST_4F/training data/5/pocket2.csv\n",
      "Bv: max=36.83, min=0.81, mean=20.11, std=6.44\n",
      "Bh: max=67.63, min=30.34, mean=49.81, std=8.59\n",
      "Bp: max=72.19, min=30.86, mean=53.99, std=9.28\n",
      "\n",
      "Potential outlier file: ./data/formatted/HKUST_4F/training data/5/pocket1.csv\n",
      "Bv: max=37.92, min=3.17, mean=20.05, std=6.97\n",
      "Bh: max=71.14, min=38.83, mean=54.94, std=7.47\n",
      "Bp: max=75.20, min=38.95, mean=58.82, std=8.08\n",
      "\n",
      "Potential outlier file: ./data/formatted/HKUST_4F/training data/5/phone3.csv\n",
      "Bv: max=245.15, min=0.08, mean=34.65, std=34.28\n",
      "Bh: max=176.57, min=8.77, mean=46.61, std=26.03\n",
      "Bp: max=280.31, min=25.76, mean=60.44, std=39.66\n",
      "\n",
      "Potential outlier file: ./data/formatted/HKUST_4F/training data/5/phone2.csv\n",
      "Bv: max=48.73, min=18.91, mean=35.84, std=5.60\n",
      "Bh: max=41.11, min=4.82, mean=20.98, std=6.36\n",
      "Bp: max=56.87, min=22.52, mean=41.90, std=6.44\n",
      "\n",
      "Potential outlier file: ./data/formatted/HKUST_4F/training data/5/chest2.csv\n",
      "Bv: max=40.28, min=14.27, mean=28.28, std=5.33\n",
      "Bh: max=67.57, min=23.81, mean=45.37, std=9.14\n",
      "Bp: max=75.96, min=28.27, mean=53.57, std=10.03\n",
      "\n",
      "Potential outlier file: ./data/formatted/HKUST_4F/training data/5/phone1.csv\n",
      "Bv: max=49.82, min=10.07, mean=32.83, std=5.92\n",
      "Bh: max=99.31, min=59.39, mean=84.73, std=8.34\n",
      "Bp: max=108.28, min=67.68, mean=91.01, std=8.88\n",
      "\n",
      "Potential outlier file: ./data/formatted/HKUST_4F/training data/3/pocket4.csv\n",
      "Bv: max=29.17, min=7.45, mean=17.81, std=4.23\n",
      "Bh: max=59.83, min=31.94, mean=45.85, std=6.98\n",
      "Bp: max=61.57, min=34.05, mean=49.43, std=6.54\n",
      "\n",
      "Potential outlier file: ./data/formatted/HKUST_4F/training data/3/chest3.csv\n",
      "Bv: max=22.99, min=7.06, mean=16.23, std=3.48\n",
      "Bh: max=54.99, min=31.31, mean=41.62, std=5.73\n",
      "Bp: max=55.71, min=34.35, mean=44.90, std=4.91\n",
      "\n",
      "Potential outlier file: ./data/formatted/HKUST_4F/training data/3/swing1.csv\n",
      "Bv: max=28.48, min=4.97, mean=17.77, std=4.10\n",
      "Bh: max=55.07, min=31.17, mean=43.23, std=5.54\n",
      "Bp: max=56.14, min=38.70, mean=47.04, std=4.40\n",
      "\n",
      "Potential outlier file: ./data/formatted/HKUST_4F/training data/3/swing3.csv\n",
      "Bv: max=27.46, min=6.05, mean=19.87, std=4.45\n",
      "Bh: max=56.16, min=32.74, mean=43.32, std=5.18\n",
      "Bp: max=57.56, min=39.46, mean=47.98, std=4.04\n",
      "\n",
      "Potential outlier file: ./data/formatted/HKUST_4F/training data/3/swing4.csv\n",
      "Bv: max=32.61, min=9.03, mean=20.95, std=4.79\n",
      "Bh: max=55.74, min=30.71, mean=42.77, std=5.42\n",
      "Bp: max=57.01, min=34.74, mean=47.96, std=4.51\n",
      "\n",
      "Potential outlier file: ./data/formatted/HKUST_4F/training data/3/swing2.csv\n",
      "Bv: max=28.14, min=3.40, mean=17.87, std=4.89\n",
      "Bh: max=56.44, min=24.55, mean=43.14, std=6.06\n",
      "Bp: max=57.10, min=33.62, mean=47.12, std=4.59\n",
      "\n",
      "Potential outlier file: ./data/formatted/HKUST_4F/training data/3/pocket2.csv\n",
      "Bv: max=22.41, min=0.08, mean=15.62, std=4.69\n",
      "Bh: max=60.91, min=31.17, mean=47.07, std=7.04\n",
      "Bp: max=60.99, min=33.53, mean=49.90, std=6.46\n",
      "\n",
      "Potential outlier file: ./data/formatted/HKUST_4F/training data/3/pocket1.csv\n",
      "Bv: max=29.89, min=6.34, mean=18.16, std=4.65\n",
      "Bh: max=50.55, min=31.18, mean=40.06, std=4.21\n",
      "Bp: max=51.47, min=35.81, mean=44.30, std=3.34\n",
      "\n",
      "Potential outlier file: ./data/formatted/HKUST_4F/training data/3/phone2.csv\n",
      "Bv: max=27.56, min=9.26, mean=21.12, std=3.29\n",
      "Bh: max=51.87, min=24.84, mean=37.59, std=6.41\n",
      "Bp: max=54.12, min=32.75, mean=43.43, std=5.00\n",
      "\n",
      "Potential outlier file: ./data/formatted/HKUST_4F/training data/3/chest2.csv\n",
      "Bv: max=24.42, min=5.76, mean=16.65, std=3.83\n",
      "Bh: max=55.99, min=31.13, mean=41.86, std=5.70\n",
      "Bp: max=56.41, min=34.32, mean=45.32, std=4.77\n",
      "\n",
      "Potential outlier file: ./data/formatted/HKUST_4F/training data/3/pocket3.csv\n",
      "Bv: max=24.14, min=0.21, mean=15.52, std=4.74\n",
      "Bh: max=54.56, min=33.03, mean=41.63, std=4.71\n",
      "Bp: max=54.63, min=38.16, mean=44.76, std=3.87\n",
      "\n",
      "Potential outlier file: ./data/formatted/HKUST_4F/training data/3/phone1.csv\n",
      "Bv: max=30.01, min=14.08, mean=22.79, std=3.68\n",
      "Bh: max=59.90, min=31.52, mean=42.56, std=6.71\n",
      "Bp: max=62.22, min=37.01, mean=48.56, std=5.57\n",
      "\n",
      "Potential outlier file: ./data/formatted/HKUST_4F/training data/3/chest1.csv\n",
      "Bv: max=23.27, min=7.12, mean=16.45, std=3.36\n",
      "Bh: max=54.88, min=30.39, mean=41.23, std=5.89\n",
      "Bp: max=55.50, min=34.82, mean=44.63, std=4.96\n",
      "\n",
      "Potential outlier file: ./data/formatted/HKUST_4F/training data/2/pocket4.csv\n",
      "Bv: max=39.49, min=0.00, mean=14.85, std=7.74\n",
      "Bh: max=41.21, min=10.98, mean=26.02, std=5.34\n",
      "Bp: max=48.17, min=16.69, mean=30.93, std=5.45\n",
      "\n",
      "Potential outlier file: ./data/formatted/HKUST_4F/training data/2/chest3.csv\n",
      "Bv: max=40.45, min=3.96, mean=22.01, std=7.33\n",
      "Bh: max=49.84, min=18.26, mean=35.08, std=5.13\n",
      "Bp: max=55.50, min=27.17, mean=41.95, std=5.90\n",
      "\n",
      "Potential outlier file: ./data/formatted/HKUST_4F/training data/2/swing3.csv\n",
      "Bv: max=47.31, min=5.25, mean=25.18, std=7.79\n",
      "Bh: max=53.64, min=22.39, mean=36.35, std=5.96\n",
      "Bp: max=63.13, min=24.31, mean=44.78, std=6.80\n",
      "\n",
      "Potential outlier file: ./data/formatted/HKUST_4F/training data/2/swing4.csv\n",
      "Bv: max=46.71, min=3.03, mean=24.69, std=7.99\n",
      "Bh: max=58.57, min=23.62, mean=41.10, std=5.85\n",
      "Bp: max=63.99, min=31.55, mean=48.56, std=6.25\n",
      "\n",
      "Potential outlier file: ./data/formatted/HKUST_4F/training data/2/swing2.csv\n",
      "Bv: max=41.02, min=0.14, mean=19.01, std=7.64\n",
      "Bh: max=49.71, min=22.18, mean=34.89, std=5.06\n",
      "Bp: max=61.16, min=24.90, mean=40.34, std=5.94\n",
      "\n",
      "Potential outlier file: ./data/formatted/HKUST_4F/training data/2/chest4.csv\n",
      "Bv: max=42.68, min=7.72, mean=25.63, std=7.11\n",
      "Bh: max=54.71, min=29.47, mean=42.39, std=4.55\n",
      "Bp: max=62.55, min=36.20, mean=49.96, std=5.44\n",
      "\n",
      "Potential outlier file: ./data/formatted/HKUST_4F/training data/2/pocket2.csv\n",
      "Bv: max=37.86, min=0.01, mean=13.89, std=8.58\n",
      "Bh: max=51.36, min=8.57, mean=27.11, std=6.60\n",
      "Bp: max=59.39, min=12.23, mean=31.38, std=7.79\n",
      "\n",
      "Potential outlier file: ./data/formatted/HKUST_4F/training data/2/pocket1.csv\n",
      "Bv: max=37.82, min=0.04, mean=17.61, std=7.24\n",
      "Bh: max=52.59, min=24.99, mean=37.92, std=4.70\n",
      "Bp: max=56.58, min=27.61, mean=42.36, std=5.26\n",
      "\n",
      "Potential outlier file: ./data/formatted/HKUST_4F/training data/2/chest2.csv\n",
      "Bv: max=42.09, min=5.79, mean=24.69, std=7.64\n",
      "Bh: max=55.55, min=30.12, mean=42.86, std=4.58\n",
      "Bp: max=62.07, min=35.27, mean=49.95, std=5.50\n",
      "\n",
      "Potential outlier file: ./data/formatted/HKUST_4F/training data/2/pocket3.csv\n",
      "Bv: max=38.55, min=0.00, mean=12.96, std=8.06\n",
      "Bh: max=67.85, min=34.94, mean=51.38, std=5.28\n",
      "Bp: max=72.65, min=35.16, mean=53.55, std=5.79\n",
      "\n",
      "Potential outlier file: ./data/formatted/HKUST_4F/training data/2/phone1.csv\n",
      "Bv: max=42.42, min=4.88, mean=24.25, std=7.56\n",
      "Bh: max=58.50, min=27.43, mean=42.05, std=4.53\n",
      "Bp: max=64.39, min=34.68, mean=49.03, std=5.43\n",
      "\n",
      "Potential outlier file: ./data/formatted/HKUST_4F/training data/2/chest1.csv\n",
      "Bv: max=41.26, min=4.76, mean=22.56, std=7.09\n",
      "Bh: max=46.22, min=23.81, mean=34.90, std=4.35\n",
      "Bp: max=54.24, min=29.71, mean=42.05, std=5.30\n",
      "\n",
      "Potential outlier file: ./data/formatted/HKUST_4F/training data/1/pocket4.csv\n",
      "Bv: max=48.64, min=0.02, mean=21.70, std=8.69\n",
      "Bh: max=62.43, min=15.54, mean=34.99, std=7.92\n",
      "Bp: max=74.10, min=22.50, mean=41.99, std=8.38\n",
      "\n",
      "Potential outlier file: ./data/formatted/HKUST_4F/training data/1/chest3.csv\n",
      "Bv: max=43.39, min=0.01, mean=17.88, std=7.20\n",
      "Bh: max=76.95, min=21.00, mean=37.51, std=7.68\n",
      "Bp: max=81.83, min=24.76, mean=42.09, std=8.14\n",
      "\n",
      "Potential outlier file: ./data/formatted/HKUST_4F/training data/1/swing1.csv\n",
      "Bv: max=42.62, min=0.08, mean=19.65, std=7.90\n",
      "Bh: max=79.10, min=23.98, mean=41.55, std=7.84\n",
      "Bp: max=80.75, min=28.33, mean=46.58, std=8.18\n",
      "\n",
      "Potential outlier file: ./data/formatted/HKUST_4F/training data/1/swing3.csv\n",
      "Bv: max=56.77, min=0.10, mean=25.32, std=9.73\n",
      "Bh: max=77.20, min=16.59, mean=38.45, std=8.76\n",
      "Bp: max=82.95, min=26.58, mean=46.89, std=9.58\n",
      "\n",
      "Potential outlier file: ./data/formatted/HKUST_4F/training data/1/swing4.csv\n",
      "Bv: max=52.84, min=0.93, mean=24.55, std=8.53\n",
      "Bh: max=74.36, min=21.66, mean=39.99, std=8.39\n",
      "Bp: max=81.84, min=28.74, mean=47.66, std=8.56\n",
      "\n",
      "Potential outlier file: ./data/formatted/HKUST_4F/training data/1/1_chest1.csv\n",
      "Bv: max=40.29, min=0.08, mean=18.30, std=7.44\n",
      "Bh: max=75.70, min=18.52, mean=37.36, std=7.69\n",
      "Bp: max=80.58, min=26.26, mean=42.19, std=8.09\n",
      "\n",
      "Potential outlier file: ./data/formatted/HKUST_4F/training data/1/swing2.csv\n",
      "Bv: max=50.91, min=0.01, mean=21.79, std=8.74\n",
      "Bh: max=66.51, min=15.43, mean=36.71, std=8.07\n",
      "Bp: max=75.05, min=25.35, mean=43.44, std=8.78\n",
      "\n",
      "Potential outlier file: ./data/formatted/HKUST_4F/training data/1/chest4.csv\n",
      "Bv: max=38.66, min=1.49, mean=20.71, std=7.17\n",
      "Bh: max=73.91, min=23.02, mean=41.89, std=7.70\n",
      "Bp: max=79.40, min=29.61, mean=47.19, std=8.19\n",
      "\n",
      "Potential outlier file: ./data/formatted/HKUST_4F/training data/1/pocket1.csv\n",
      "Bv: max=42.82, min=0.00, mean=21.23, std=8.56\n",
      "Bh: max=73.52, min=23.92, mean=41.96, std=7.81\n",
      "Bp: max=78.10, min=28.42, mean=47.70, std=8.35\n",
      "\n",
      "Potential outlier file: ./data/formatted/HKUST_4F/training data/1/phone2.csv\n",
      "Bv: max=43.81, min=1.95, mean=22.37, std=7.21\n",
      "Bh: max=63.71, min=18.09, mean=39.99, std=7.77\n",
      "Bp: max=71.84, min=19.98, mean=46.29, std=8.30\n",
      "\n",
      "Potential outlier file: ./data/formatted/HKUST_4F/training data/1/chest2.csv\n",
      "Bv: max=47.87, min=1.99, mean=21.12, std=7.42\n",
      "Bh: max=72.94, min=24.17, mean=41.73, std=7.49\n",
      "Bp: max=79.67, min=30.05, mean=47.24, std=8.16\n",
      "\n",
      "Potential outlier file: ./data/formatted/HKUST_4F/training data/1/pocket3.csv\n",
      "Bv: max=43.52, min=0.08, mean=21.17, std=8.32\n",
      "Bh: max=79.03, min=23.10, mean=41.90, std=8.27\n",
      "Bp: max=81.91, min=28.40, mean=47.59, std=8.77\n",
      "\n",
      "Potential outlier file: ./data/formatted/HKUST_4F/training data/1/phone1.csv\n",
      "Bv: max=38.08, min=7.76, mean=24.49, std=6.60\n",
      "Bh: max=74.54, min=22.43, mean=40.11, std=7.44\n",
      "Bp: max=80.11, min=31.23, mean=47.41, std=7.75\n",
      "\n",
      "Potential outlier file: ./data/formatted/HKUST_4F/training data/4/pocket4.csv\n",
      "Bv: max=36.71, min=11.45, mean=24.69, std=4.49\n",
      "Bh: max=59.23, min=38.22, mean=49.19, std=4.21\n",
      "Bp: max=64.12, min=44.35, mean=55.22, std=4.24\n",
      "\n",
      "Potential outlier file: ./data/formatted/HKUST_4F/training data/4/chest3.csv\n",
      "Bv: max=47.95, min=15.14, mean=32.01, std=6.30\n",
      "Bh: max=86.48, min=69.55, mean=77.16, std=3.70\n",
      "Bp: max=91.77, min=71.94, mean=83.74, std=4.33\n",
      "\n",
      "Potential outlier file: ./data/formatted/HKUST_4F/training data/4/swing1.csv\n",
      "Bv: max=30.64, min=2.03, mean=22.60, std=5.46\n",
      "Bh: max=50.02, min=26.49, mean=40.46, std=4.00\n",
      "Bp: max=54.80, min=29.24, mean=46.61, std=4.67\n",
      "\n",
      "Potential outlier file: ./data/formatted/HKUST_4F/training data/4/swing4.csv\n",
      "Bv: max=35.40, min=7.58, mean=24.63, std=5.11\n",
      "Bh: max=53.47, min=27.28, mean=42.29, std=4.33\n",
      "Bp: max=57.29, min=29.80, mean=49.20, std=4.36\n",
      "\n",
      "Potential outlier file: ./data/formatted/HKUST_4F/training data/4/swing2.csv\n",
      "Bv: max=40.68, min=0.05, mean=19.48, std=6.95\n",
      "Bh: max=64.70, min=33.40, mean=47.62, std=6.31\n",
      "Bp: max=66.39, min=36.86, mean=52.07, std=4.97\n",
      "\n",
      "Potential outlier file: ./data/formatted/HKUST_4F/training data/4/chest4.csv\n",
      "Bv: max=46.91, min=15.20, mean=33.68, std=6.43\n",
      "Bh: max=29.42, min=10.44, mean=19.30, std=3.72\n",
      "Bp: max=49.17, min=27.72, mean=39.27, std=4.44\n",
      "\n",
      "Potential outlier file: ./data/formatted/HKUST_4F/training data/4/pocket1.csv\n",
      "Bv: max=43.36, min=0.04, mean=14.67, std=10.47\n",
      "Bh: max=77.89, min=29.00, mean=52.66, std=9.91\n",
      "Bp: max=88.63, min=30.47, mean=55.42, std=11.17\n",
      "\n",
      "Potential outlier file: ./data/formatted/HKUST_4F/training data/4/phone3.csv\n",
      "Bv: max=207.43, min=15.61, mean=68.97, std=34.35\n",
      "Bh: max=154.10, min=0.54, mean=28.51, std=19.31\n",
      "Bp: max=227.01, min=43.04, mean=76.88, std=34.80\n",
      "\n",
      "Potential outlier file: ./data/formatted/HKUST_4F/training data/4/phone2.csv\n",
      "Bv: max=33.06, min=1.70, mean=19.62, std=5.93\n",
      "Bh: max=50.54, min=31.00, mean=38.75, std=3.51\n",
      "Bp: max=55.76, min=36.00, mean=43.83, std=3.67\n",
      "\n",
      "Potential outlier file: ./data/formatted/HKUST_4F/training data/4/chest2.csv\n",
      "Bv: max=47.13, min=16.19, mean=33.10, std=6.07\n",
      "Bh: max=25.51, min=10.01, mean=17.74, std=3.15\n",
      "Bp: max=50.26, min=22.29, mean=37.85, std=4.97\n",
      "\n",
      "Potential outlier file: ./data/formatted/HKUST_4F/training data/4/pocket3.csv\n",
      "Bv: max=31.02, min=6.71, mean=22.34, std=4.84\n",
      "Bh: max=57.90, min=33.01, mean=40.75, std=3.96\n",
      "Bp: max=61.28, min=40.28, mean=46.76, std=3.47\n",
      "\n",
      "Potential outlier file: ./data/formatted/HKUST_4F/training data/4/phone1.csv\n",
      "Bv: max=35.08, min=2.94, mean=21.22, std=5.87\n",
      "Bh: max=52.29, min=37.42, mean=44.86, std=3.33\n",
      "Bp: max=58.39, min=43.29, mean=49.99, std=3.14\n",
      "\n",
      "Potential outlier file: ./data/formatted/HKUST_4F/training data/4/chest1.csv\n",
      "Bv: max=45.81, min=18.49, mean=34.39, std=5.36\n",
      "Bh: max=86.04, min=66.39, mean=76.32, std=3.43\n",
      "Bp: max=91.38, min=74.21, mean=83.86, std=3.83\n",
      "\n"
     ]
    }
   ],
   "source": [
    "import os\n",
    "import csv\n",
    "import numpy as np\n",
    "\n",
    "def find_outlier_files(data_path, threshold_multiplier=5):\n",
    "    outlier_files = []\n",
    "    test_max_values = {\n",
    "        'Bv': 53.97,\n",
    "        'Bh': 0,\n",
    "        'Bp': 0\n",
    "    }\n",
    "    \n",
    "    for root, _, files in os.walk(data_path):\n",
    "        for file in files:\n",
    "            if file.endswith('.csv'):\n",
    "                file_path = os.path.join(root, file)\n",
    "                with open(file_path, 'r') as csv_file:\n",
    "                    reader = csv.reader(csv_file)\n",
    "                    next(reader)  # Skip header\n",
    "                    data = list(reader)\n",
    "                    \n",
    "                values = {\n",
    "                    'Bv': [float(row[0]) for row in data],\n",
    "                    'Bh': [float(row[1]) for row in data],\n",
    "                    'Bp': [float(row[2]) for row in data]\n",
    "                }\n",
    "                \n",
    "                stats = {key: {\n",
    "                    'max': max(vals),\n",
    "                    'min': min(vals),\n",
    "                    'mean': np.mean(vals),\n",
    "                    'std': np.std(vals)\n",
    "                } for key, vals in values.items()}\n",
    "                \n",
    "                if any(stats[key]['max'] > test_max_values[key] * threshold_multiplier for key in test_max_values):\n",
    "                    outlier_files.append((file_path, stats))\n",
    "    \n",
    "    return outlier_files\n",
    "\n",
    "# Use the function\n",
    "training_data_path = os.path.join(\".\", \"data\", \"formatted\", \"HKUST_4F\", \"training data\")\n",
    "outliers = find_outlier_files(training_data_path)\n",
    "\n",
    "for file_path, stats in outliers:\n",
    "    print(f\"Potential outlier file: {file_path}\")\n",
    "    for key in ['Bv', 'Bh', 'Bp']:\n",
    "        print(f\"{key}: max={stats[key]['max']:.2f}, min={stats[key]['min']:.2f}, mean={stats[key]['mean']:.2f}, std={stats[key]['std']:.2f}\")\n",
    "    print()"
   ]
  },
  {
   "cell_type": "code",
   "execution_count": 8,
   "metadata": {},
   "outputs": [
    {
     "name": "stdout",
     "output_type": "stream",
     "text": [
      "Statistics for each file after excluding outliers:\n",
      "\n",
      "File: ./data/formatted/HKUST_4F/training data/5/pocket4.csv\n",
      "Bv: max=33.48, min=8.52, mean=21.47, std=5.20\n",
      "Bh: max=75.06, min=35.32, mean=51.53, std=9.28\n",
      "Bp: max=79.86, min=36.34, mean=56.03, std=9.50\n",
      "\n",
      "File: ./data/formatted/HKUST_4F/training data/5/chest3.csv\n",
      "Bv: max=40.59, min=4.90, mean=27.15, std=6.38\n",
      "Bh: max=67.83, min=12.41, mean=52.79, std=9.60\n",
      "Bp: max=75.68, min=15.23, mean=59.49, std=10.86\n",
      "\n",
      "File: ./data/formatted/HKUST_4F/training data/5/swing1.csv\n",
      "Bv: max=43.99, min=0.04, mean=17.82, std=9.76\n",
      "Bh: max=88.21, min=36.44, mean=61.83, std=11.13\n",
      "Bp: max=97.98, min=36.66, mean=64.92, std=12.05\n",
      "\n",
      "File: ./data/formatted/HKUST_4F/training data/5/swing3.csv\n",
      "Bv: max=71.18, min=11.20, mean=51.77, std=12.55\n",
      "Bh: max=87.45, min=27.92, mean=48.77, std=13.53\n",
      "Bp: max=99.57, min=42.38, mean=72.68, std=10.78\n",
      "\n",
      "File: ./data/formatted/HKUST_4F/training data/5/swing4.csv\n",
      "Bv: max=68.79, min=29.59, mean=53.08, std=7.39\n",
      "Bh: max=81.82, min=10.00, mean=59.38, std=15.14\n",
      "Bp: max=102.77, min=31.76, mean=80.18, std=14.05\n",
      "\n",
      "File: ./data/formatted/HKUST_4F/training data/5/swing2.csv\n",
      "Bv: max=41.41, min=0.02, mean=10.43, std=8.62\n",
      "Bh: max=71.86, min=11.61, mean=41.46, std=13.28\n",
      "Bp: max=71.86, min=14.94, mean=44.11, std=11.50\n",
      "\n",
      "File: ./data/formatted/HKUST_4F/training data/5/chest4.csv\n",
      "Bv: max=43.50, min=14.40, mean=27.82, std=5.32\n",
      "Bh: max=62.59, min=22.72, mean=44.77, std=8.51\n",
      "Bp: max=71.98, min=27.06, mean=52.85, std=9.27\n",
      "\n",
      "File: ./data/formatted/HKUST_4F/training data/5/pocket2.csv\n",
      "Bv: max=36.83, min=0.81, mean=20.11, std=6.44\n",
      "Bh: max=67.63, min=30.34, mean=49.81, std=8.59\n",
      "Bp: max=72.19, min=30.86, mean=53.99, std=9.28\n",
      "\n",
      "File: ./data/formatted/HKUST_4F/training data/5/pocket1.csv\n",
      "Bv: max=37.92, min=3.17, mean=20.05, std=6.97\n",
      "Bh: max=71.14, min=38.83, mean=54.94, std=7.47\n",
      "Bp: max=75.20, min=38.95, mean=58.82, std=8.08\n",
      "\n",
      "File: ./data/formatted/HKUST_4F/training data/5/phone3.csv\n",
      "Bv: max=245.15, min=0.08, mean=34.65, std=34.28\n",
      "Bh: max=176.57, min=8.77, mean=46.61, std=26.03\n",
      "Bp: max=280.31, min=25.76, mean=60.44, std=39.66\n",
      "\n",
      "File: ./data/formatted/HKUST_4F/training data/5/phone2.csv\n",
      "Bv: max=48.73, min=18.91, mean=35.84, std=5.60\n",
      "Bh: max=41.11, min=4.82, mean=20.98, std=6.36\n",
      "Bp: max=56.87, min=22.52, mean=41.90, std=6.44\n",
      "\n",
      "File: ./data/formatted/HKUST_4F/training data/5/chest2.csv\n",
      "Bv: max=40.28, min=14.27, mean=28.28, std=5.33\n",
      "Bh: max=67.57, min=23.81, mean=45.37, std=9.14\n",
      "Bp: max=75.96, min=28.27, mean=53.57, std=10.03\n",
      "\n",
      "File: ./data/formatted/HKUST_4F/training data/5/phone1.csv\n",
      "Bv: max=49.82, min=10.07, mean=32.83, std=5.92\n",
      "Bh: max=99.31, min=59.39, mean=84.73, std=8.34\n",
      "Bp: max=108.28, min=67.68, mean=91.01, std=8.88\n",
      "\n",
      "File: ./data/formatted/HKUST_4F/training data/3/pocket4.csv\n",
      "Bv: max=29.17, min=7.45, mean=17.81, std=4.23\n",
      "Bh: max=59.83, min=31.94, mean=45.85, std=6.98\n",
      "Bp: max=61.57, min=34.05, mean=49.43, std=6.54\n",
      "\n",
      "File: ./data/formatted/HKUST_4F/training data/3/chest3.csv\n",
      "Bv: max=22.99, min=7.06, mean=16.23, std=3.48\n",
      "Bh: max=54.99, min=31.31, mean=41.62, std=5.73\n",
      "Bp: max=55.71, min=34.35, mean=44.90, std=4.91\n",
      "\n",
      "File: ./data/formatted/HKUST_4F/training data/3/swing1.csv\n",
      "Bv: max=28.48, min=4.97, mean=17.77, std=4.10\n",
      "Bh: max=55.07, min=31.17, mean=43.23, std=5.54\n",
      "Bp: max=56.14, min=38.70, mean=47.04, std=4.40\n",
      "\n",
      "File: ./data/formatted/HKUST_4F/training data/3/swing3.csv\n",
      "Bv: max=27.46, min=6.05, mean=19.87, std=4.45\n",
      "Bh: max=56.16, min=32.74, mean=43.32, std=5.18\n",
      "Bp: max=57.56, min=39.46, mean=47.98, std=4.04\n",
      "\n",
      "File: ./data/formatted/HKUST_4F/training data/3/swing4.csv\n",
      "Bv: max=32.61, min=9.03, mean=20.95, std=4.79\n",
      "Bh: max=55.74, min=30.71, mean=42.77, std=5.42\n",
      "Bp: max=57.01, min=34.74, mean=47.96, std=4.51\n",
      "\n",
      "File: ./data/formatted/HKUST_4F/training data/3/swing2.csv\n",
      "Bv: max=28.14, min=3.40, mean=17.87, std=4.89\n",
      "Bh: max=56.44, min=24.55, mean=43.14, std=6.06\n",
      "Bp: max=57.10, min=33.62, mean=47.12, std=4.59\n",
      "\n",
      "File: ./data/formatted/HKUST_4F/training data/3/pocket2.csv\n",
      "Bv: max=22.41, min=0.08, mean=15.62, std=4.69\n",
      "Bh: max=60.91, min=31.17, mean=47.07, std=7.04\n",
      "Bp: max=60.99, min=33.53, mean=49.90, std=6.46\n",
      "\n",
      "File: ./data/formatted/HKUST_4F/training data/3/pocket1.csv\n",
      "Bv: max=29.89, min=6.34, mean=18.16, std=4.65\n",
      "Bh: max=50.55, min=31.18, mean=40.06, std=4.21\n",
      "Bp: max=51.47, min=35.81, mean=44.30, std=3.34\n",
      "\n",
      "File: ./data/formatted/HKUST_4F/training data/3/phone2.csv\n",
      "Bv: max=27.56, min=9.26, mean=21.12, std=3.29\n",
      "Bh: max=51.87, min=24.84, mean=37.59, std=6.41\n",
      "Bp: max=54.12, min=32.75, mean=43.43, std=5.00\n",
      "\n",
      "File: ./data/formatted/HKUST_4F/training data/3/chest2.csv\n",
      "Bv: max=24.42, min=5.76, mean=16.65, std=3.83\n",
      "Bh: max=55.99, min=31.13, mean=41.86, std=5.70\n",
      "Bp: max=56.41, min=34.32, mean=45.32, std=4.77\n",
      "\n",
      "File: ./data/formatted/HKUST_4F/training data/3/pocket3.csv\n",
      "Bv: max=24.14, min=0.21, mean=15.52, std=4.74\n",
      "Bh: max=54.56, min=33.03, mean=41.63, std=4.71\n",
      "Bp: max=54.63, min=38.16, mean=44.76, std=3.87\n",
      "\n",
      "File: ./data/formatted/HKUST_4F/training data/3/phone1.csv\n",
      "Bv: max=30.01, min=14.08, mean=22.79, std=3.68\n",
      "Bh: max=59.90, min=31.52, mean=42.56, std=6.71\n",
      "Bp: max=62.22, min=37.01, mean=48.56, std=5.57\n",
      "\n",
      "File: ./data/formatted/HKUST_4F/training data/3/chest1.csv\n",
      "Bv: max=23.27, min=7.12, mean=16.45, std=3.36\n",
      "Bh: max=54.88, min=30.39, mean=41.23, std=5.89\n",
      "Bp: max=55.50, min=34.82, mean=44.63, std=4.96\n",
      "\n",
      "File: ./data/formatted/HKUST_4F/training data/2/pocket4.csv\n",
      "Bv: max=39.49, min=0.00, mean=14.85, std=7.74\n",
      "Bh: max=41.21, min=10.98, mean=26.02, std=5.34\n",
      "Bp: max=48.17, min=16.69, mean=30.93, std=5.45\n",
      "\n",
      "File: ./data/formatted/HKUST_4F/training data/2/chest3.csv\n",
      "Bv: max=40.45, min=3.96, mean=22.01, std=7.33\n",
      "Bh: max=49.84, min=18.26, mean=35.08, std=5.13\n",
      "Bp: max=55.50, min=27.17, mean=41.95, std=5.90\n",
      "\n",
      "File: ./data/formatted/HKUST_4F/training data/2/swing3.csv\n",
      "Bv: max=47.31, min=5.25, mean=25.18, std=7.79\n",
      "Bh: max=53.64, min=22.39, mean=36.35, std=5.96\n",
      "Bp: max=63.13, min=24.31, mean=44.78, std=6.80\n",
      "\n",
      "File: ./data/formatted/HKUST_4F/training data/2/swing4.csv\n",
      "Bv: max=46.71, min=3.03, mean=24.69, std=7.99\n",
      "Bh: max=58.57, min=23.62, mean=41.10, std=5.85\n",
      "Bp: max=63.99, min=31.55, mean=48.56, std=6.25\n",
      "\n",
      "File: ./data/formatted/HKUST_4F/training data/2/swing2.csv\n",
      "Bv: max=41.02, min=0.14, mean=19.01, std=7.64\n",
      "Bh: max=49.71, min=22.18, mean=34.89, std=5.06\n",
      "Bp: max=61.16, min=24.90, mean=40.34, std=5.94\n",
      "\n",
      "File: ./data/formatted/HKUST_4F/training data/2/chest4.csv\n",
      "Bv: max=42.68, min=7.72, mean=25.63, std=7.11\n",
      "Bh: max=54.71, min=29.47, mean=42.39, std=4.55\n",
      "Bp: max=62.55, min=36.20, mean=49.96, std=5.44\n",
      "\n",
      "File: ./data/formatted/HKUST_4F/training data/2/pocket2.csv\n",
      "Bv: max=37.86, min=0.01, mean=13.89, std=8.58\n",
      "Bh: max=51.36, min=8.57, mean=27.11, std=6.60\n",
      "Bp: max=59.39, min=12.23, mean=31.38, std=7.79\n",
      "\n",
      "File: ./data/formatted/HKUST_4F/training data/2/pocket1.csv\n",
      "Bv: max=37.82, min=0.04, mean=17.61, std=7.24\n",
      "Bh: max=52.59, min=24.99, mean=37.92, std=4.70\n",
      "Bp: max=56.58, min=27.61, mean=42.36, std=5.26\n",
      "\n",
      "File: ./data/formatted/HKUST_4F/training data/2/chest2.csv\n",
      "Bv: max=42.09, min=5.79, mean=24.69, std=7.64\n",
      "Bh: max=55.55, min=30.12, mean=42.86, std=4.58\n",
      "Bp: max=62.07, min=35.27, mean=49.95, std=5.50\n",
      "\n",
      "File: ./data/formatted/HKUST_4F/training data/2/pocket3.csv\n",
      "Bv: max=38.55, min=0.00, mean=12.96, std=8.06\n",
      "Bh: max=67.85, min=34.94, mean=51.38, std=5.28\n",
      "Bp: max=72.65, min=35.16, mean=53.55, std=5.79\n",
      "\n",
      "File: ./data/formatted/HKUST_4F/training data/2/phone1.csv\n",
      "Bv: max=42.42, min=4.88, mean=24.25, std=7.56\n",
      "Bh: max=58.50, min=27.43, mean=42.05, std=4.53\n",
      "Bp: max=64.39, min=34.68, mean=49.03, std=5.43\n",
      "\n",
      "File: ./data/formatted/HKUST_4F/training data/2/chest1.csv\n",
      "Bv: max=41.26, min=4.76, mean=22.56, std=7.09\n",
      "Bh: max=46.22, min=23.81, mean=34.90, std=4.35\n",
      "Bp: max=54.24, min=29.71, mean=42.05, std=5.30\n",
      "\n",
      "File: ./data/formatted/HKUST_4F/training data/1/pocket4.csv\n",
      "Bv: max=48.64, min=0.02, mean=21.70, std=8.69\n",
      "Bh: max=62.43, min=15.54, mean=34.99, std=7.92\n",
      "Bp: max=74.10, min=22.50, mean=41.99, std=8.38\n",
      "\n",
      "File: ./data/formatted/HKUST_4F/training data/1/chest3.csv\n",
      "Bv: max=43.39, min=0.01, mean=17.88, std=7.20\n",
      "Bh: max=76.95, min=21.00, mean=37.51, std=7.68\n",
      "Bp: max=81.83, min=24.76, mean=42.09, std=8.14\n",
      "\n",
      "File: ./data/formatted/HKUST_4F/training data/1/swing1.csv\n",
      "Bv: max=42.62, min=0.08, mean=19.65, std=7.90\n",
      "Bh: max=79.10, min=23.98, mean=41.55, std=7.84\n",
      "Bp: max=80.75, min=28.33, mean=46.58, std=8.18\n",
      "\n",
      "File: ./data/formatted/HKUST_4F/training data/1/swing3.csv\n",
      "Bv: max=56.77, min=0.10, mean=25.32, std=9.73\n",
      "Bh: max=77.20, min=16.59, mean=38.45, std=8.76\n",
      "Bp: max=82.95, min=26.58, mean=46.89, std=9.58\n",
      "\n",
      "File: ./data/formatted/HKUST_4F/training data/1/swing4.csv\n",
      "Bv: max=52.84, min=0.93, mean=24.55, std=8.53\n",
      "Bh: max=74.36, min=21.66, mean=39.99, std=8.39\n",
      "Bp: max=81.84, min=28.74, mean=47.66, std=8.56\n",
      "\n",
      "File: ./data/formatted/HKUST_4F/training data/1/1_chest1.csv\n",
      "Bv: max=40.29, min=0.08, mean=18.30, std=7.44\n",
      "Bh: max=75.70, min=18.52, mean=37.36, std=7.69\n",
      "Bp: max=80.58, min=26.26, mean=42.19, std=8.09\n",
      "\n",
      "File: ./data/formatted/HKUST_4F/training data/1/swing2.csv\n",
      "Bv: max=50.91, min=0.01, mean=21.79, std=8.74\n",
      "Bh: max=66.51, min=15.43, mean=36.71, std=8.07\n",
      "Bp: max=75.05, min=25.35, mean=43.44, std=8.78\n",
      "\n",
      "File: ./data/formatted/HKUST_4F/training data/1/chest4.csv\n",
      "Bv: max=38.66, min=1.49, mean=20.71, std=7.17\n",
      "Bh: max=73.91, min=23.02, mean=41.89, std=7.70\n",
      "Bp: max=79.40, min=29.61, mean=47.19, std=8.19\n",
      "\n",
      "File: ./data/formatted/HKUST_4F/training data/1/pocket1.csv\n",
      "Bv: max=42.82, min=0.00, mean=21.23, std=8.56\n",
      "Bh: max=73.52, min=23.92, mean=41.96, std=7.81\n",
      "Bp: max=78.10, min=28.42, mean=47.70, std=8.35\n",
      "\n",
      "File: ./data/formatted/HKUST_4F/training data/1/phone2.csv\n",
      "Bv: max=43.81, min=1.95, mean=22.37, std=7.21\n",
      "Bh: max=63.71, min=18.09, mean=39.99, std=7.77\n",
      "Bp: max=71.84, min=19.98, mean=46.29, std=8.30\n",
      "\n",
      "File: ./data/formatted/HKUST_4F/training data/1/chest2.csv\n",
      "Bv: max=47.87, min=1.99, mean=21.12, std=7.42\n",
      "Bh: max=72.94, min=24.17, mean=41.73, std=7.49\n",
      "Bp: max=79.67, min=30.05, mean=47.24, std=8.16\n",
      "\n",
      "File: ./data/formatted/HKUST_4F/training data/1/pocket3.csv\n",
      "Bv: max=43.52, min=0.08, mean=21.17, std=8.32\n",
      "Bh: max=79.03, min=23.10, mean=41.90, std=8.27\n",
      "Bp: max=81.91, min=28.40, mean=47.59, std=8.77\n",
      "\n",
      "File: ./data/formatted/HKUST_4F/training data/1/phone1.csv\n",
      "Bv: max=38.08, min=7.76, mean=24.49, std=6.60\n",
      "Bh: max=74.54, min=22.43, mean=40.11, std=7.44\n",
      "Bp: max=80.11, min=31.23, mean=47.41, std=7.75\n",
      "\n",
      "File: ./data/formatted/HKUST_4F/training data/4/pocket4.csv\n",
      "Bv: max=36.71, min=11.45, mean=24.69, std=4.49\n",
      "Bh: max=59.23, min=38.22, mean=49.19, std=4.21\n",
      "Bp: max=64.12, min=44.35, mean=55.22, std=4.24\n",
      "\n",
      "File: ./data/formatted/HKUST_4F/training data/4/chest3.csv\n",
      "Bv: max=47.95, min=15.14, mean=32.01, std=6.30\n",
      "Bh: max=86.48, min=69.55, mean=77.16, std=3.70\n",
      "Bp: max=91.77, min=71.94, mean=83.74, std=4.33\n",
      "\n",
      "File: ./data/formatted/HKUST_4F/training data/4/swing1.csv\n",
      "Bv: max=30.64, min=2.03, mean=22.60, std=5.46\n",
      "Bh: max=50.02, min=26.49, mean=40.46, std=4.00\n",
      "Bp: max=54.80, min=29.24, mean=46.61, std=4.67\n",
      "\n",
      "File: ./data/formatted/HKUST_4F/training data/4/swing4.csv\n",
      "Bv: max=35.40, min=7.58, mean=24.63, std=5.11\n",
      "Bh: max=53.47, min=27.28, mean=42.29, std=4.33\n",
      "Bp: max=57.29, min=29.80, mean=49.20, std=4.36\n",
      "\n",
      "File: ./data/formatted/HKUST_4F/training data/4/swing2.csv\n",
      "Bv: max=40.68, min=0.05, mean=19.48, std=6.95\n",
      "Bh: max=64.70, min=33.40, mean=47.62, std=6.31\n",
      "Bp: max=66.39, min=36.86, mean=52.07, std=4.97\n",
      "\n",
      "File: ./data/formatted/HKUST_4F/training data/4/chest4.csv\n",
      "Bv: max=46.91, min=15.20, mean=33.68, std=6.43\n",
      "Bh: max=29.42, min=10.44, mean=19.30, std=3.72\n",
      "Bp: max=49.17, min=27.72, mean=39.27, std=4.44\n",
      "\n",
      "File: ./data/formatted/HKUST_4F/training data/4/pocket1.csv\n",
      "Bv: max=43.36, min=0.04, mean=14.67, std=10.47\n",
      "Bh: max=77.89, min=29.00, mean=52.66, std=9.91\n",
      "Bp: max=88.63, min=30.47, mean=55.42, std=11.17\n",
      "\n",
      "File: ./data/formatted/HKUST_4F/training data/4/phone3.csv\n",
      "Bv: max=207.43, min=15.61, mean=68.97, std=34.35\n",
      "Bh: max=154.10, min=0.54, mean=28.51, std=19.31\n",
      "Bp: max=227.01, min=43.04, mean=76.88, std=34.80\n",
      "\n",
      "File: ./data/formatted/HKUST_4F/training data/4/phone2.csv\n",
      "Bv: max=33.06, min=1.70, mean=19.62, std=5.93\n",
      "Bh: max=50.54, min=31.00, mean=38.75, std=3.51\n",
      "Bp: max=55.76, min=36.00, mean=43.83, std=3.67\n",
      "\n",
      "File: ./data/formatted/HKUST_4F/training data/4/chest2.csv\n",
      "Bv: max=47.13, min=16.19, mean=33.10, std=6.07\n",
      "Bh: max=25.51, min=10.01, mean=17.74, std=3.15\n",
      "Bp: max=50.26, min=22.29, mean=37.85, std=4.97\n",
      "\n",
      "File: ./data/formatted/HKUST_4F/training data/4/pocket3.csv\n",
      "Bv: max=31.02, min=6.71, mean=22.34, std=4.84\n",
      "Bh: max=57.90, min=33.01, mean=40.75, std=3.96\n",
      "Bp: max=61.28, min=40.28, mean=46.76, std=3.47\n",
      "\n",
      "File: ./data/formatted/HKUST_4F/training data/4/phone1.csv\n",
      "Bv: max=35.08, min=2.94, mean=21.22, std=5.87\n",
      "Bh: max=52.29, min=37.42, mean=44.86, std=3.33\n",
      "Bp: max=58.39, min=43.29, mean=49.99, std=3.14\n",
      "\n",
      "File: ./data/formatted/HKUST_4F/training data/4/chest1.csv\n",
      "Bv: max=45.81, min=18.49, mean=34.39, std=5.36\n",
      "Bh: max=86.04, min=66.39, mean=76.32, std=3.43\n",
      "Bp: max=91.38, min=74.21, mean=83.86, std=3.83\n"
     ]
    }
   ],
   "source": [
    "import os\n",
    "import csv\n",
    "import numpy as np\n",
    "\n",
    "def calculate_file_stats(file_path):\n",
    "    values = {'Bv': [], 'Bh': [], 'Bp': []}\n",
    "    \n",
    "    with open(file_path, 'r') as csv_file:\n",
    "        reader = csv.reader(csv_file)\n",
    "        next(reader)  # Skip header\n",
    "        for row in reader:\n",
    "            values['Bv'].append(float(row[0]))\n",
    "            values['Bh'].append(float(row[1]))\n",
    "            values['Bp'].append(float(row[2]))\n",
    "    \n",
    "    stats = {}\n",
    "    for key in values:\n",
    "        data = np.array(values[key])\n",
    "        stats[key] = {\n",
    "            'max': np.max(data),\n",
    "            'min': np.min(data),\n",
    "            'mean': np.mean(data),\n",
    "            'std': np.std(data)\n",
    "        }\n",
    "    \n",
    "    return stats\n",
    "\n",
    "# List of outlier files to exclude\n",
    "exclude_files = [\n",
    "    './data/formatted/HKUST_4F/training data/5/phone4.csv',\n",
    "    './data/formatted/HKUST_4F/training data/3/phone3.csv',\n",
    "    './data/formatted/HKUST_4F/training data/2/phone4.csv',\n",
    "    './data/formatted/HKUST_4F/training data/2/phone3.csv',\n",
    "    './data/formatted/HKUST_4F/training data/1/phone4.csv',\n",
    "    './data/formatted/HKUST_4F/training data/1/phone3.csv',\n",
    "    './data/formatted/HKUST_4F/training data/4/phone4.csv'\n",
    "]\n",
    "\n",
    "# Calculate stats for each remaining file\n",
    "training_data_path = os.path.join(\".\", \"data\", \"formatted\", \"HKUST_4F\", \"training data\")\n",
    "\n",
    "print(\"Statistics for each file after excluding outliers:\")\n",
    "for root, _, files in os.walk(training_data_path):\n",
    "    for file in files:\n",
    "        if file.endswith('.csv'):\n",
    "            file_path = os.path.join(root, file)\n",
    "            if file_path not in exclude_files:\n",
    "                print(f\"\\nFile: {file_path}\")\n",
    "                stats = calculate_file_stats(file_path)\n",
    "                for key in stats:\n",
    "                    print(f\"{key}: max={stats[key]['max']:.2f}, min={stats[key]['min']:.2f}, mean={stats[key]['mean']:.2f}, std={stats[key]['std']:.2f}\")"
   ]
  },
  {
   "cell_type": "markdown",
   "metadata": {},
   "source": [
    "## **Analyze Differences in Distributions between Train and Test**"
   ]
  },
  {
   "cell_type": "code",
   "execution_count": 10,
   "metadata": {},
   "outputs": [
    {
     "name": "stdout",
     "output_type": "stream",
     "text": [
      "Training Dataset Statistics:\n",
      "x: mean=198.34, std=46.01, min=110.07, max=280.11\n",
      "y: mean=125.70, std=10.35, min=113.32, max=135.56\n",
      "Bv: mean=39.33, std=59.56, min=0.00, max=1156.94\n",
      "Bh: mean=49.36, std=40.64, min=0.22, max=1687.81\n",
      "Bp: mean=66.06, std=69.42, min=12.23, max=1762.91\n",
      "Testing Dataset Statistics:\n",
      "x: mean=196.21, std=45.22, min=110.07, max=280.11\n",
      "y: mean=126.19, std=10.39, min=113.32, max=135.55\n",
      "Bv: mean=19.85, std=8.67, min=0.01, max=53.97\n",
      "Bh: mean=39.84, std=8.46, min=17.15, max=75.70\n",
      "Bp: mean=45.33, std=8.59, min=22.44, max=80.58\n"
     ]
    }
   ],
   "source": [
    "import numpy as np\n",
    "\n",
    "def calculate_stats(data_list, key):\n",
    "    values = np.concatenate([np.array(d[key]) for d in data_list])\n",
    "    return {\n",
    "        'mean': np.mean(values),\n",
    "        'std': np.std(values),\n",
    "        'min': np.min(values),\n",
    "        'max': np.max(values)\n",
    "    }\n",
    "\n",
    "keys = ['x', 'y', 'Bv', 'Bh', 'Bp']\n",
    "\n",
    "print(\"Training Dataset Statistics:\")\n",
    "for key in keys:\n",
    "    stats = calculate_stats(train_raw_data, key)\n",
    "    print(f\"{key}: mean={stats['mean']:.2f}, std={stats['std']:.2f}, min={stats['min']:.2f}, max={stats['max']:.2f}\")\n",
    "\n",
    "print(\"Testing Dataset Statistics:\")\n",
    "for key in keys:\n",
    "    stats = calculate_stats(test_raw_data, key)\n",
    "    print(f\"{key}: mean={stats['mean']:.2f}, std={stats['std']:.2f}, min={stats['min']:.2f}, max={stats['max']:.2f}\")"
   ]
  },
  {
   "cell_type": "markdown",
   "metadata": {},
   "source": [
    "## **Length of the Raw Data**"
   ]
  },
  {
   "cell_type": "code",
   "execution_count": 4,
   "metadata": {
    "scrolled": true
   },
   "outputs": [
    {
     "name": "stdout",
     "output_type": "stream",
     "text": [
      "Train Raw data:\n",
      "  Total length: 170013\n",
      "  Individual lengths: [678, 625, 646, 669, 665, 666, 643, 686, 645, 677, 685, 690, 677, 660, 4373, 4318, 4239, 4339, 4291, 4350, 4414, 4294, 4330, 4296, 4314, 4422, 4302, 4489, 5611, 5713, 5732, 6119, 5714, 5604, 5454, 6268, 5822, 5592, 5412, 5563, 5503, 6328, 680, 685, 682, 649, 685, 710, 680, 673, 665, 684, 664, 672, 686, 670, 692, 703, 713, 675, 687, 740, 763, 700, 682, 705, 736, 710, 745, 759]\n",
      "  Number of trajectories: 70\n",
      "\n",
      "Test Raw data:\n",
      "  Total length: 24589\n",
      "  Individual lengths: [750, 5958, 658, 713, 662, 4313, 6572, 4282, 681]\n",
      "  Number of trajectories: 9\n",
      "\n"
     ]
    }
   ],
   "source": [
    "def print_data_info(data, name):\n",
    "    total_length = sum(len(d['x']) for d in data)\n",
    "    individual_lengths = [len(d['x']) for d in data]\n",
    "    num_trajectories = len(data)\n",
    "    \n",
    "    print(f\"{name} data:\")\n",
    "    print(f\"  Total length: {total_length}\")\n",
    "    print(f\"  Individual lengths: {individual_lengths}\")\n",
    "    print(f\"  Number of trajectories: {num_trajectories}\")\n",
    "    print()\n",
    "\n",
    "\n",
    "print_data_info(train_raw_data, \"Train Raw\")\n",
    "print_data_info(test_raw_data, \"Test Raw\")"
   ]
  },
  {
   "cell_type": "code",
   "execution_count": 5,
   "metadata": {},
   "outputs": [
    {
     "data": {
      "application/vnd.jupyter.widget-view+json": {
       "model_id": "96234982728b47afae962f546376d095",
       "version_major": 2,
       "version_minor": 0
      },
      "text/plain": [
       "interactive(children=(IntSlider(value=0, continuous_update=False, description='Index:', max=69), Output()), _d…"
      ]
     },
     "metadata": {},
     "output_type": "display_data"
    }
   ],
   "source": [
    "def visualize_data(data):\n",
    "    def update_plot(index):\n",
    "        plt.figure(figsize=(10, 10))\n",
    "        \n",
    "        # Scatter plot for all points\n",
    "        plt.scatter(data[index][\"x\"], data[index][\"y\"], s=30, alpha=0.5, label='Steps')\n",
    "        \n",
    "        # Highlight start and end points\n",
    "        plt.scatter(data[index][\"x\"][0], data[index][\"y\"][0], color='green', s=100, label='Start')\n",
    "        plt.scatter(data[index][\"x\"][-1], data[index][\"y\"][-1], color='red', s=100, label='End')\n",
    "        \n",
    "        plt.legend()\n",
    "        plt.title(f\"Trajectory at index {index}\")\n",
    "        plt.xlabel(\"X coordinate\")\n",
    "        plt.ylabel(\"Y coordinate\")\n",
    "        plt.grid(True)\n",
    "        plt.axis('equal')  # This ensures the aspect ratio is 1:1\n",
    "        plt.show()\n",
    "\n",
    "    slider = widgets.IntSlider(\n",
    "        value=0,\n",
    "        min=0,\n",
    "        max=len(data) - 1,\n",
    "        step=1,\n",
    "        description='Index:',\n",
    "        continuous_update=False\n",
    "    )\n",
    "\n",
    "    widget = widgets.interactive(update_plot, index=slider)\n",
    "    display(widget)\n",
    "\n",
    "visualize_data(train_raw_data)\n",
    "# visualize_data(test_raw_data)"
   ]
  },
  {
   "cell_type": "markdown",
   "metadata": {},
   "source": [
    "## **Process Data to Sequences**"
   ]
  },
  {
   "cell_type": "code",
   "execution_count": 6,
   "metadata": {},
   "outputs": [
    {
     "name": "stdout",
     "output_type": "stream",
     "text": [
      "Training data shape: (134330, 30, 3) (134330, 2)\n",
      "Validation data shape: (33583, 30, 3) (33583, 2)\n",
      "Testing data shape: (24319, 30, 3) (24319, 2)\n"
     ]
    }
   ],
   "source": [
    "def prepare_sequences(data, sequence_length):\n",
    "    X, y = [], []\n",
    "    for traj in data:\n",
    "        input_seq = np.column_stack((traj['Bv'], traj['Bh'], traj['Bp']))\n",
    "        output_seq = np.column_stack((traj['x'], traj['y']))\n",
    "        \n",
    "        for i in range(len(input_seq) - sequence_length):\n",
    "            X.append(input_seq[i:i+sequence_length])\n",
    "            y.append(output_seq[i+sequence_length])\n",
    "    \n",
    "    return np.array(X), np.array(y)\n",
    "\n",
    "# Set sequence length\n",
    "sequence_length = 30\n",
    "\n",
    "# Prepare training data\n",
    "X_train_val, y_train_val = prepare_sequences(train_raw_data, sequence_length)\n",
    "\n",
    "# Split training data into train and validation sets\n",
    "X_train, X_val, y_train, y_val = train_test_split(X_train_val, y_train_val, test_size=0.2, random_state=42)\n",
    "\n",
    "# Prepare test data\n",
    "X_test, y_test = prepare_sequences(test_raw_data, sequence_length)\n",
    "\n",
    "# Normalize input data\n",
    "scaler_X = StandardScaler()\n",
    "X_train_scaled = scaler_X.fit_transform(X_train.reshape(-1, X_train.shape[-1])).reshape(X_train.shape)\n",
    "X_val_scaled = scaler_X.transform(X_val.reshape(-1, X_val.shape[-1])).reshape(X_val.shape)\n",
    "X_test_scaled = scaler_X.transform(X_test.reshape(-1, X_test.shape[-1])).reshape(X_test.shape)\n",
    "\n",
    "# Normalize output data\n",
    "scaler_y = StandardScaler()\n",
    "y_train_scaled = scaler_y.fit_transform(y_train)\n",
    "y_val_scaled = scaler_y.transform(y_val)\n",
    "y_test_scaled = scaler_y.transform(y_test)\n",
    "\n",
    "print(\"Training data shape:\", X_train_scaled.shape, y_train_scaled.shape)\n",
    "print(\"Validation data shape:\", X_val_scaled.shape, y_val_scaled.shape)\n",
    "print(\"Testing data shape:\", X_test_scaled.shape, y_test_scaled.shape)\n"
   ]
  },
  {
   "cell_type": "markdown",
   "metadata": {},
   "source": [
    "### *What you get at this step is sequence of data of `Bv`, `Bp` and `Bh` followed by an `x` and `y` output*"
   ]
  },
  {
   "cell_type": "markdown",
   "metadata": {},
   "source": [
    "## **Plot and Visualize Sequences**"
   ]
  },
  {
   "cell_type": "code",
   "execution_count": 6,
   "metadata": {
    "collapsed": true,
    "jupyter": {
     "outputs_hidden": true,
     "source_hidden": true
    }
   },
   "outputs": [
    {
     "data": {
      "application/vnd.jupyter.widget-view+json": {
       "model_id": "2047e928672d473a9bae87b8b0ee142c",
       "version_major": 2,
       "version_minor": 0
      },
      "text/plain": [
       "VBox(children=(HTML(value='<h3>Train Dataset</h3>'), HBox(children=(BoundedIntText(value=0, description='Train…"
      ]
     },
     "metadata": {},
     "output_type": "display_data"
    },
    {
     "data": {
      "application/vnd.jupyter.widget-view+json": {
       "model_id": "2871677406ef49f9bfd78da468cfadaa",
       "version_major": 2,
       "version_minor": 0
      },
      "text/plain": [
       "VBox(children=(HTML(value='<h3>Validation Dataset</h3>'), HBox(children=(BoundedIntText(value=0, description='…"
      ]
     },
     "metadata": {},
     "output_type": "display_data"
    },
    {
     "data": {
      "application/vnd.jupyter.widget-view+json": {
       "model_id": "7f61bbcdbf0047fa8a57d4c4411e43d6",
       "version_major": 2,
       "version_minor": 0
      },
      "text/plain": [
       "VBox(children=(HTML(value='<h3>Test Dataset</h3>'), HBox(children=(BoundedIntText(value=0, description='Test I…"
      ]
     },
     "metadata": {},
     "output_type": "display_data"
    }
   ],
   "source": [
    "def plot_single_dataset(index, data_type, dataset):\n",
    "    plt.figure(figsize=(15, 5))\n",
    "\n",
    "    if data_type == 'Raw':\n",
    "        X = X_train if dataset == 'Train' else X_val if dataset == 'Validation' else X_test\n",
    "        y = y_train if dataset == 'Train' else y_val if dataset == 'Validation' else y_test\n",
    "    else:\n",
    "        X = X_train_scaled if dataset == 'Train' else X_val_scaled if dataset == 'Validation' else X_test_scaled\n",
    "        y = y_train_scaled if dataset == 'Train' else y_val_scaled if dataset == 'Validation' else y_test_scaled\n",
    "\n",
    "    # Plot input sequence\n",
    "    plt.subplot(1, 2, 1)\n",
    "    plt.title(f'{data_type} Input Sequence - {dataset}')\n",
    "    plt.plot(X[index, :, 0], label='Bv')\n",
    "    plt.plot(X[index, :, 1], label='Bh')\n",
    "    plt.plot(X[index, :, 2], label='Bp')\n",
    "    plt.legend()\n",
    "    plt.xlabel('Steps')\n",
    "    plt.ylabel('Value')\n",
    "\n",
    "    # Plot output\n",
    "    plt.subplot(1, 2, 2)\n",
    "    plt.title(f'{data_type} Output - {dataset}')\n",
    "    plt.scatter(y[index, 0], y[index, 1], color='red', label='Position')\n",
    "    plt.legend()\n",
    "    plt.xlabel('X')\n",
    "    plt.ylabel('Y')\n",
    "\n",
    "    plt.tight_layout()\n",
    "    plt.show()\n",
    "\n",
    "def create_interactive_plot(dataset):\n",
    "    max_index = len(X_train)-1 if dataset == 'Train' else len(X_val)-1 if dataset == 'Validation' else len(X_test)-1\n",
    "    \n",
    "    index_input = widgets.BoundedIntText(\n",
    "        value=0,\n",
    "        min=0,\n",
    "        max=max_index,\n",
    "        description=f'{dataset} Index:',\n",
    "        style={'description_width': 'initial'}\n",
    "    )\n",
    "    \n",
    "    index_slider = widgets.IntSlider(\n",
    "        value=0,\n",
    "        min=0,\n",
    "        max=max_index,\n",
    "        description='Progress:',\n",
    "        style={'description_width': 'initial'}\n",
    "    )\n",
    "    \n",
    "    # Link the input and slider\n",
    "    widgets.jslink((index_input, 'value'), (index_slider, 'value'))\n",
    "    \n",
    "    data_type_widget = widgets.RadioButtons(options=['Raw', 'Scaled'], description='Data Type:')\n",
    "    \n",
    "    def update_plot(index, data_type):\n",
    "        plot_single_dataset(index, data_type, dataset)\n",
    "    \n",
    "    interactive_plot = interactive(update_plot, index=index_input, data_type=data_type_widget)\n",
    "    \n",
    "    return VBox([\n",
    "        widgets.HTML(f\"<h3>{dataset} Dataset</h3>\"),\n",
    "        HBox([index_input, index_slider]),\n",
    "        data_type_widget,\n",
    "        interactive_plot.children[-1]\n",
    "    ])\n",
    "\n",
    "# Create and display interactive plots for each dataset\n",
    "train_plot = create_interactive_plot('Train')\n",
    "val_plot = create_interactive_plot('Validation')\n",
    "test_plot = create_interactive_plot('Test')\n",
    "\n",
    "display(train_plot, val_plot, test_plot)"
   ]
  },
  {
   "cell_type": "markdown",
   "metadata": {},
   "source": [
    "## **Define the dataset and dataloader**"
   ]
  },
  {
   "cell_type": "code",
   "execution_count": 7,
   "metadata": {},
   "outputs": [
    {
     "name": "stdout",
     "output_type": "stream",
     "text": [
      "Train dataset shape: torch.Size([134330, 30, 3]) torch.Size([134330, 2])\n",
      "Validation dataset shape: torch.Size([33583, 30, 3]) torch.Size([33583, 2])\n",
      "Test dataset shape: torch.Size([24319, 30, 3]) torch.Size([24319, 2])\n"
     ]
    }
   ],
   "source": [
    "class TrajectoryDataset(Dataset):\n",
    "    def __init__(self, X, y):\n",
    "        self.X = torch.FloatTensor(X)\n",
    "        self.y = torch.FloatTensor(y)\n",
    "    \n",
    "    def __len__(self):\n",
    "        return len(self.X)\n",
    "    \n",
    "    def __getitem__(self, idx):\n",
    "        return self.X[idx], self.y[idx]\n",
    "\n",
    "# Create datasets\n",
    "train_dataset = TrajectoryDataset(X_train_scaled, y_train_scaled)\n",
    "val_dataset = TrajectoryDataset(X_val_scaled, y_val_scaled)\n",
    "test_dataset = TrajectoryDataset(X_test_scaled, y_test_scaled)\n",
    "\n",
    "# Print dataset shapes\n",
    "print(\"Train dataset shape:\", train_dataset.X.shape, train_dataset.y.shape)\n",
    "print(\"Validation dataset shape:\", val_dataset.X.shape, val_dataset.y.shape)\n",
    "print(\"Test dataset shape:\", test_dataset.X.shape, test_dataset.y.shape)\n",
    "\n",
    "# Create dataloaders\n",
    "batch_size = 64\n",
    "train_loader = DataLoader(train_dataset, batch_size=batch_size, shuffle=True) # It's already shuffled but doesnt hurt though\n",
    "val_loader = DataLoader(val_dataset, batch_size=batch_size, shuffle=False)\n",
    "test_loader = DataLoader(test_dataset, batch_size=batch_size, shuffle=False)"
   ]
  },
  {
   "cell_type": "markdown",
   "metadata": {},
   "source": [
    "## **Define the RNN model**\n"
   ]
  },
  {
   "cell_type": "code",
   "execution_count": 8,
   "metadata": {},
   "outputs": [],
   "source": [
    "class TrajectoryRNN(nn.Module):\n",
    "    def __init__(self, input_size, hidden_size, output_size, num_layers=1):\n",
    "        super(TrajectoryRNN, self).__init__()\n",
    "        self.hidden_size = hidden_size\n",
    "        self.num_layers = num_layers\n",
    "        self.rnn = nn.GRU(input_size, hidden_size, num_layers=num_layers, batch_first=True)\n",
    "        self.fc = nn.Linear(hidden_size, output_size)\n",
    "    \n",
    "    def forward(self, x):\n",
    "        _, hidden = self.rnn(x)\n",
    "        output = self.fc(hidden[-1])  # Use the last layer's hidden state\n",
    "        return output\n",
    "\n",
    "# Initialize the model\n",
    "input_size = 3  # Bv, Bh, Bp\n",
    "hidden_size = 256\n",
    "output_size = 2  # x, y\n",
    "model = TrajectoryRNN(input_size, hidden_size, output_size).to(device)\n",
    "\n",
    "# Define loss function and optimizer\n",
    "optimizer = torch.optim.Adam(model.parameters(), lr=0.001)"
   ]
  },
  {
   "cell_type": "markdown",
   "metadata": {},
   "source": [
    "## **Train the model**"
   ]
  },
  {
   "cell_type": "code",
   "execution_count": 9,
   "metadata": {},
   "outputs": [
    {
     "name": "stderr",
     "output_type": "stream",
     "text": [
      "Training Progress:   0%|          | 0/500 [00:08<?, ?it/s, Epoch=1, Train Loss=0.9242, Val Loss=0.8827]"
     ]
    },
    {
     "name": "stdout",
     "output_type": "stream",
     "text": [
      "Original Train MSE: 915.1847, MAE: 22.5132\n",
      "Original Val MSE: 921.8801, MAE: 22.5692\n"
     ]
    },
    {
     "name": "stderr",
     "output_type": "stream",
     "text": [
      "Training Progress:   0%|          | 1/500 [00:15<2:06:27, 15.21s/it, Epoch=1, Train Loss=0.9242, Val Loss=0.8827]"
     ]
    },
    {
     "name": "stdout",
     "output_type": "stream",
     "text": [
      "Original Test MSE: 917.5258, MAE: 22.6963\n"
     ]
    },
    {
     "name": "stderr",
     "output_type": "stream",
     "text": [
      "Training Progress:   0%|          | 1/500 [00:23<2:06:27, 15.21s/it, Epoch=2, Train Loss=0.8619, Val Loss=0.8491]"
     ]
    },
    {
     "name": "stdout",
     "output_type": "stream",
     "text": [
      "Original Train MSE: 886.3395, MAE: 21.8318\n",
      "Original Val MSE: 894.5422, MAE: 21.9047\n"
     ]
    },
    {
     "name": "stderr",
     "output_type": "stream",
     "text": [
      "Training Progress:   0%|          | 2/500 [00:30<2:05:38, 15.14s/it, Epoch=2, Train Loss=0.8619, Val Loss=0.8491]"
     ]
    },
    {
     "name": "stdout",
     "output_type": "stream",
     "text": [
      "Original Test MSE: 950.9402, MAE: 23.0232\n"
     ]
    },
    {
     "name": "stderr",
     "output_type": "stream",
     "text": [
      "Training Progress:   0%|          | 2/500 [00:38<2:05:38, 15.14s/it, Epoch=3, Train Loss=0.8148, Val Loss=0.7988]"
     ]
    },
    {
     "name": "stdout",
     "output_type": "stream",
     "text": [
      "Original Train MSE: 839.6301, MAE: 21.0617\n",
      "Original Val MSE: 852.5300, MAE: 21.1900\n"
     ]
    },
    {
     "name": "stderr",
     "output_type": "stream",
     "text": [
      "Training Progress:   1%|          | 3/500 [00:45<2:05:11, 15.11s/it, Epoch=3, Train Loss=0.8148, Val Loss=0.7988]"
     ]
    },
    {
     "name": "stdout",
     "output_type": "stream",
     "text": [
      "Original Test MSE: 889.7177, MAE: 21.8876\n"
     ]
    },
    {
     "name": "stderr",
     "output_type": "stream",
     "text": [
      "Training Progress:   1%|          | 3/500 [00:53<2:05:11, 15.11s/it, Epoch=4, Train Loss=0.7763, Val Loss=0.7674]"
     ]
    },
    {
     "name": "stdout",
     "output_type": "stream",
     "text": [
      "Original Train MSE: 812.0565, MAE: 20.5092\n",
      "Original Val MSE: 824.7307, MAE: 20.6325\n"
     ]
    },
    {
     "name": "stderr",
     "output_type": "stream",
     "text": [
      "Training Progress:   1%|          | 4/500 [01:00<2:04:58, 15.12s/it, Epoch=4, Train Loss=0.7763, Val Loss=0.7674]"
     ]
    },
    {
     "name": "stdout",
     "output_type": "stream",
     "text": [
      "Original Test MSE: 932.0046, MAE: 22.1245\n"
     ]
    },
    {
     "name": "stderr",
     "output_type": "stream",
     "text": [
      "Training Progress:   1%|          | 4/500 [01:08<2:04:58, 15.12s/it, Epoch=5, Train Loss=0.7449, Val Loss=0.7366]"
     ]
    },
    {
     "name": "stdout",
     "output_type": "stream",
     "text": [
      "Original Train MSE: 788.5672, MAE: 19.9148\n",
      "Original Val MSE: 802.3471, MAE: 20.0651\n"
     ]
    },
    {
     "name": "stderr",
     "output_type": "stream",
     "text": [
      "Training Progress:   1%|          | 5/500 [01:15<2:04:23, 15.08s/it, Epoch=5, Train Loss=0.7449, Val Loss=0.7366]"
     ]
    },
    {
     "name": "stdout",
     "output_type": "stream",
     "text": [
      "Original Test MSE: 924.6388, MAE: 21.8934\n"
     ]
    },
    {
     "name": "stderr",
     "output_type": "stream",
     "text": [
      "Training Progress:   1%|          | 5/500 [01:23<2:04:23, 15.08s/it, Epoch=6, Train Loss=0.7194, Val Loss=0.7176]"
     ]
    },
    {
     "name": "stdout",
     "output_type": "stream",
     "text": [
      "Original Train MSE: 762.0949, MAE: 19.3777\n",
      "Original Val MSE: 779.6486, MAE: 19.5880\n"
     ]
    },
    {
     "name": "stderr",
     "output_type": "stream",
     "text": [
      "Training Progress:   1%|          | 6/500 [01:30<2:03:44, 15.03s/it, Epoch=6, Train Loss=0.7194, Val Loss=0.7176]"
     ]
    },
    {
     "name": "stdout",
     "output_type": "stream",
     "text": [
      "Original Test MSE: 942.6679, MAE: 22.1340\n"
     ]
    },
    {
     "name": "stderr",
     "output_type": "stream",
     "text": [
      "Training Progress:   1%|          | 6/500 [01:38<2:03:44, 15.03s/it, Epoch=7, Train Loss=0.6924, Val Loss=0.6891]"
     ]
    },
    {
     "name": "stdout",
     "output_type": "stream",
     "text": [
      "Original Train MSE: 736.8219, MAE: 18.7926\n",
      "Original Val MSE: 758.0806, MAE: 19.0773\n"
     ]
    },
    {
     "name": "stderr",
     "output_type": "stream",
     "text": [
      "Training Progress:   1%|▏         | 7/500 [01:45<2:03:17, 15.00s/it, Epoch=7, Train Loss=0.6924, Val Loss=0.6891]"
     ]
    },
    {
     "name": "stdout",
     "output_type": "stream",
     "text": [
      "Original Test MSE: 929.1143, MAE: 21.6575\n"
     ]
    },
    {
     "name": "stderr",
     "output_type": "stream",
     "text": [
      "Training Progress:   1%|▏         | 7/500 [01:53<2:03:17, 15.00s/it, Epoch=8, Train Loss=0.6676, Val Loss=0.6631]"
     ]
    },
    {
     "name": "stdout",
     "output_type": "stream",
     "text": [
      "Original Train MSE: 715.3904, MAE: 18.5351\n",
      "Original Val MSE: 734.3995, MAE: 18.7765\n"
     ]
    },
    {
     "name": "stderr",
     "output_type": "stream",
     "text": [
      "Training Progress:   2%|▏         | 8/500 [02:00<2:02:46, 14.97s/it, Epoch=8, Train Loss=0.6676, Val Loss=0.6631]"
     ]
    },
    {
     "name": "stdout",
     "output_type": "stream",
     "text": [
      "Original Test MSE: 914.8088, MAE: 21.5748\n"
     ]
    },
    {
     "name": "stderr",
     "output_type": "stream",
     "text": [
      "Training Progress:   2%|▏         | 8/500 [02:08<2:02:46, 14.97s/it, Epoch=9, Train Loss=0.6410, Val Loss=0.6416]"
     ]
    },
    {
     "name": "stdout",
     "output_type": "stream",
     "text": [
      "Original Train MSE: 685.5409, MAE: 17.8083\n",
      "Original Val MSE: 712.2463, MAE: 18.1596\n"
     ]
    },
    {
     "name": "stderr",
     "output_type": "stream",
     "text": [
      "Training Progress:   2%|▏         | 9/500 [02:15<2:02:26, 14.96s/it, Epoch=9, Train Loss=0.6410, Val Loss=0.6416]"
     ]
    },
    {
     "name": "stdout",
     "output_type": "stream",
     "text": [
      "Original Test MSE: 962.1996, MAE: 21.6231\n"
     ]
    },
    {
     "name": "stderr",
     "output_type": "stream",
     "text": [
      "Training Progress:   2%|▏         | 9/500 [02:23<2:02:26, 14.96s/it, Epoch=10, Train Loss=0.6182, Val Loss=0.6191]"
     ]
    },
    {
     "name": "stdout",
     "output_type": "stream",
     "text": [
      "Original Train MSE: 659.3738, MAE: 17.5520\n",
      "Original Val MSE: 684.4684, MAE: 17.9091\n"
     ]
    },
    {
     "name": "stderr",
     "output_type": "stream",
     "text": [
      "Training Progress:   2%|▏         | 10/500 [02:30<2:02:30, 15.00s/it, Epoch=10, Train Loss=0.6182, Val Loss=0.6191]"
     ]
    },
    {
     "name": "stdout",
     "output_type": "stream",
     "text": [
      "Original Test MSE: 928.3611, MAE: 21.5665\n"
     ]
    },
    {
     "name": "stderr",
     "output_type": "stream",
     "text": [
      "Training Progress:   2%|▏         | 10/500 [02:38<2:02:30, 15.00s/it, Epoch=11, Train Loss=0.5928, Val Loss=0.5950]"
     ]
    },
    {
     "name": "stdout",
     "output_type": "stream",
     "text": [
      "Original Train MSE: 630.5349, MAE: 16.9139\n",
      "Original Val MSE: 662.9278, MAE: 17.3552\n"
     ]
    },
    {
     "name": "stderr",
     "output_type": "stream",
     "text": [
      "Training Progress:   2%|▏         | 11/500 [02:45<2:02:28, 15.03s/it, Epoch=11, Train Loss=0.5928, Val Loss=0.5950]"
     ]
    },
    {
     "name": "stdout",
     "output_type": "stream",
     "text": [
      "Original Test MSE: 990.7872, MAE: 22.1090\n"
     ]
    },
    {
     "name": "stderr",
     "output_type": "stream",
     "text": [
      "Training Progress:   2%|▏         | 11/500 [02:53<2:02:28, 15.03s/it, Epoch=12, Train Loss=0.5676, Val Loss=0.5716]"
     ]
    },
    {
     "name": "stdout",
     "output_type": "stream",
     "text": [
      "Original Train MSE: 602.2874, MAE: 16.4812\n",
      "Original Val MSE: 633.1440, MAE: 16.9280\n"
     ]
    },
    {
     "name": "stderr",
     "output_type": "stream",
     "text": [
      "Training Progress:   2%|▏         | 12/500 [03:00<2:02:22, 15.05s/it, Epoch=12, Train Loss=0.5676, Val Loss=0.5716]"
     ]
    },
    {
     "name": "stdout",
     "output_type": "stream",
     "text": [
      "Original Test MSE: 955.1209, MAE: 21.6119\n"
     ]
    },
    {
     "name": "stderr",
     "output_type": "stream",
     "text": [
      "Training Progress:   2%|▏         | 12/500 [03:09<2:02:22, 15.05s/it, Epoch=13, Train Loss=0.5436, Val Loss=0.5447]"
     ]
    },
    {
     "name": "stdout",
     "output_type": "stream",
     "text": [
      "Original Train MSE: 569.4186, MAE: 15.9269\n",
      "Original Val MSE: 605.6875, MAE: 16.4778\n"
     ]
    },
    {
     "name": "stderr",
     "output_type": "stream",
     "text": [
      "Training Progress:   3%|▎         | 13/500 [03:15<2:02:12, 15.06s/it, Epoch=13, Train Loss=0.5436, Val Loss=0.5447]"
     ]
    },
    {
     "name": "stdout",
     "output_type": "stream",
     "text": [
      "Original Test MSE: 957.5242, MAE: 21.6797\n"
     ]
    },
    {
     "name": "stderr",
     "output_type": "stream",
     "text": [
      "Training Progress:   3%|▎         | 13/500 [03:24<2:02:12, 15.06s/it, Epoch=14, Train Loss=0.5193, Val Loss=0.5231]"
     ]
    },
    {
     "name": "stdout",
     "output_type": "stream",
     "text": [
      "Original Train MSE: 542.8138, MAE: 15.4606\n"
     ]
    },
    {
     "name": "stderr",
     "output_type": "stream",
     "text": [
      "Training Progress:   3%|▎         | 13/500 [03:29<2:11:06, 16.15s/it, Epoch=14, Train Loss=0.5193, Val Loss=0.5231]"
     ]
    },
    {
     "name": "stdout",
     "output_type": "stream",
     "text": [
      "Original Val MSE: 582.6044, MAE: 16.0518\n"
     ]
    },
    {
     "name": "stderr",
     "output_type": "stream",
     "text": [
      "\n"
     ]
    },
    {
     "ename": "KeyboardInterrupt",
     "evalue": "",
     "output_type": "error",
     "traceback": [
      "\u001b[0;31m---------------------------------------------------------------------------\u001b[0m",
      "\u001b[0;31mKeyboardInterrupt\u001b[0m                         Traceback (most recent call last)",
      "Cell \u001b[0;32mIn[9], line 74\u001b[0m\n\u001b[1;32m     72\u001b[0m     train_mse, train_mae \u001b[38;5;241m=\u001b[39m calculate_original_losses(train_loader, model, scaler_y, \u001b[38;5;124m\"\u001b[39m\u001b[38;5;124mTrain\u001b[39m\u001b[38;5;124m\"\u001b[39m)\n\u001b[1;32m     73\u001b[0m     val_mse, val_mae \u001b[38;5;241m=\u001b[39m calculate_original_losses(val_loader, model, scaler_y, \u001b[38;5;124m\"\u001b[39m\u001b[38;5;124mVal\u001b[39m\u001b[38;5;124m\"\u001b[39m)\n\u001b[0;32m---> 74\u001b[0m     test_mse, test_mae \u001b[38;5;241m=\u001b[39m \u001b[43mcalculate_original_losses\u001b[49m\u001b[43m(\u001b[49m\u001b[43mtest_loader\u001b[49m\u001b[43m,\u001b[49m\u001b[43m \u001b[49m\u001b[43mmodel\u001b[49m\u001b[43m,\u001b[49m\u001b[43m \u001b[49m\u001b[43mscaler_y\u001b[49m\u001b[43m,\u001b[49m\u001b[43m \u001b[49m\u001b[38;5;124;43m\"\u001b[39;49m\u001b[38;5;124;43mTest\u001b[39;49m\u001b[38;5;124;43m\"\u001b[39;49m\u001b[43m)\u001b[49m\n\u001b[1;32m     76\u001b[0m \u001b[38;5;28;01mif\u001b[39;00m val_loss \u001b[38;5;241m<\u001b[39m best_val_loss:\n\u001b[1;32m     77\u001b[0m     best_val_loss \u001b[38;5;241m=\u001b[39m val_loss\n",
      "Cell \u001b[0;32mIn[9], line 15\u001b[0m, in \u001b[0;36mcalculate_original_losses\u001b[0;34m(loader, model, scaler, dataset_name)\u001b[0m\n\u001b[1;32m     12\u001b[0m mae_criterion \u001b[38;5;241m=\u001b[39m nn\u001b[38;5;241m.\u001b[39mL1Loss(reduction\u001b[38;5;241m=\u001b[39m\u001b[38;5;124m'\u001b[39m\u001b[38;5;124mmean\u001b[39m\u001b[38;5;124m'\u001b[39m)\n\u001b[1;32m     14\u001b[0m \u001b[38;5;28;01mwith\u001b[39;00m torch\u001b[38;5;241m.\u001b[39mno_grad():\n\u001b[0;32m---> 15\u001b[0m \u001b[43m    \u001b[49m\u001b[38;5;28;43;01mfor\u001b[39;49;00m\u001b[43m \u001b[49m\u001b[43mbatch_X\u001b[49m\u001b[43m,\u001b[49m\u001b[43m \u001b[49m\u001b[43mbatch_y\u001b[49m\u001b[43m \u001b[49m\u001b[38;5;129;43;01min\u001b[39;49;00m\u001b[43m \u001b[49m\u001b[43mloader\u001b[49m\u001b[43m:\u001b[49m\n\u001b[1;32m     16\u001b[0m \u001b[43m        \u001b[49m\u001b[43mbatch_X\u001b[49m\u001b[43m,\u001b[49m\u001b[43m \u001b[49m\u001b[43mbatch_y\u001b[49m\u001b[43m \u001b[49m\u001b[38;5;241;43m=\u001b[39;49m\u001b[43m \u001b[49m\u001b[43mbatch_X\u001b[49m\u001b[38;5;241;43m.\u001b[39;49m\u001b[43mto\u001b[49m\u001b[43m(\u001b[49m\u001b[43mdevice\u001b[49m\u001b[43m)\u001b[49m\u001b[43m,\u001b[49m\u001b[43m \u001b[49m\u001b[43mbatch_y\u001b[49m\u001b[38;5;241;43m.\u001b[39;49m\u001b[43mto\u001b[49m\u001b[43m(\u001b[49m\u001b[43mdevice\u001b[49m\u001b[43m)\u001b[49m\n\u001b[1;32m     17\u001b[0m \u001b[43m        \u001b[49m\u001b[43moutputs\u001b[49m\u001b[43m \u001b[49m\u001b[38;5;241;43m=\u001b[39;49m\u001b[43m \u001b[49m\u001b[43mmodel\u001b[49m\u001b[43m(\u001b[49m\u001b[43mbatch_X\u001b[49m\u001b[43m)\u001b[49m\n",
      "File \u001b[0;32m~/myenv/lib/python3.12/site-packages/torch/utils/data/dataloader.py:631\u001b[0m, in \u001b[0;36m_BaseDataLoaderIter.__next__\u001b[0;34m(self)\u001b[0m\n\u001b[1;32m    628\u001b[0m \u001b[38;5;28;01mif\u001b[39;00m \u001b[38;5;28mself\u001b[39m\u001b[38;5;241m.\u001b[39m_sampler_iter \u001b[38;5;129;01mis\u001b[39;00m \u001b[38;5;28;01mNone\u001b[39;00m:\n\u001b[1;32m    629\u001b[0m     \u001b[38;5;66;03m# TODO(https://github.com/pytorch/pytorch/issues/76750)\u001b[39;00m\n\u001b[1;32m    630\u001b[0m     \u001b[38;5;28mself\u001b[39m\u001b[38;5;241m.\u001b[39m_reset()  \u001b[38;5;66;03m# type: ignore[call-arg]\u001b[39;00m\n\u001b[0;32m--> 631\u001b[0m data \u001b[38;5;241m=\u001b[39m \u001b[38;5;28;43mself\u001b[39;49m\u001b[38;5;241;43m.\u001b[39;49m\u001b[43m_next_data\u001b[49m\u001b[43m(\u001b[49m\u001b[43m)\u001b[49m\n\u001b[1;32m    632\u001b[0m \u001b[38;5;28mself\u001b[39m\u001b[38;5;241m.\u001b[39m_num_yielded \u001b[38;5;241m+\u001b[39m\u001b[38;5;241m=\u001b[39m \u001b[38;5;241m1\u001b[39m\n\u001b[1;32m    633\u001b[0m \u001b[38;5;28;01mif\u001b[39;00m \u001b[38;5;28mself\u001b[39m\u001b[38;5;241m.\u001b[39m_dataset_kind \u001b[38;5;241m==\u001b[39m _DatasetKind\u001b[38;5;241m.\u001b[39mIterable \u001b[38;5;129;01mand\u001b[39;00m \\\n\u001b[1;32m    634\u001b[0m         \u001b[38;5;28mself\u001b[39m\u001b[38;5;241m.\u001b[39m_IterableDataset_len_called \u001b[38;5;129;01mis\u001b[39;00m \u001b[38;5;129;01mnot\u001b[39;00m \u001b[38;5;28;01mNone\u001b[39;00m \u001b[38;5;129;01mand\u001b[39;00m \\\n\u001b[1;32m    635\u001b[0m         \u001b[38;5;28mself\u001b[39m\u001b[38;5;241m.\u001b[39m_num_yielded \u001b[38;5;241m>\u001b[39m \u001b[38;5;28mself\u001b[39m\u001b[38;5;241m.\u001b[39m_IterableDataset_len_called:\n",
      "File \u001b[0;32m~/myenv/lib/python3.12/site-packages/torch/utils/data/dataloader.py:675\u001b[0m, in \u001b[0;36m_SingleProcessDataLoaderIter._next_data\u001b[0;34m(self)\u001b[0m\n\u001b[1;32m    673\u001b[0m \u001b[38;5;28;01mdef\u001b[39;00m \u001b[38;5;21m_next_data\u001b[39m(\u001b[38;5;28mself\u001b[39m):\n\u001b[1;32m    674\u001b[0m     index \u001b[38;5;241m=\u001b[39m \u001b[38;5;28mself\u001b[39m\u001b[38;5;241m.\u001b[39m_next_index()  \u001b[38;5;66;03m# may raise StopIteration\u001b[39;00m\n\u001b[0;32m--> 675\u001b[0m     data \u001b[38;5;241m=\u001b[39m \u001b[38;5;28;43mself\u001b[39;49m\u001b[38;5;241;43m.\u001b[39;49m\u001b[43m_dataset_fetcher\u001b[49m\u001b[38;5;241;43m.\u001b[39;49m\u001b[43mfetch\u001b[49m\u001b[43m(\u001b[49m\u001b[43mindex\u001b[49m\u001b[43m)\u001b[49m  \u001b[38;5;66;03m# may raise StopIteration\u001b[39;00m\n\u001b[1;32m    676\u001b[0m     \u001b[38;5;28;01mif\u001b[39;00m \u001b[38;5;28mself\u001b[39m\u001b[38;5;241m.\u001b[39m_pin_memory:\n\u001b[1;32m    677\u001b[0m         data \u001b[38;5;241m=\u001b[39m _utils\u001b[38;5;241m.\u001b[39mpin_memory\u001b[38;5;241m.\u001b[39mpin_memory(data, \u001b[38;5;28mself\u001b[39m\u001b[38;5;241m.\u001b[39m_pin_memory_device)\n",
      "File \u001b[0;32m~/myenv/lib/python3.12/site-packages/torch/utils/data/_utils/fetch.py:51\u001b[0m, in \u001b[0;36m_MapDatasetFetcher.fetch\u001b[0;34m(self, possibly_batched_index)\u001b[0m\n\u001b[1;32m     49\u001b[0m         data \u001b[38;5;241m=\u001b[39m \u001b[38;5;28mself\u001b[39m\u001b[38;5;241m.\u001b[39mdataset\u001b[38;5;241m.\u001b[39m__getitems__(possibly_batched_index)\n\u001b[1;32m     50\u001b[0m     \u001b[38;5;28;01melse\u001b[39;00m:\n\u001b[0;32m---> 51\u001b[0m         data \u001b[38;5;241m=\u001b[39m [\u001b[38;5;28mself\u001b[39m\u001b[38;5;241m.\u001b[39mdataset[idx] \u001b[38;5;28;01mfor\u001b[39;00m idx \u001b[38;5;129;01min\u001b[39;00m possibly_batched_index]\n\u001b[1;32m     52\u001b[0m \u001b[38;5;28;01melse\u001b[39;00m:\n\u001b[1;32m     53\u001b[0m     data \u001b[38;5;241m=\u001b[39m \u001b[38;5;28mself\u001b[39m\u001b[38;5;241m.\u001b[39mdataset[possibly_batched_index]\n",
      "\u001b[0;31mKeyboardInterrupt\u001b[0m: "
     ]
    }
   ],
   "source": [
    "max_num_epochs = 500\n",
    "best_val_loss = float('inf')\n",
    "patience = 5\n",
    "no_improve = 0\n",
    "log_original_loss_every = 1\n",
    "\n",
    "def calculate_original_losses(loader, model, scaler, dataset_name):\n",
    "    total_mse = 0\n",
    "    total_mae = 0\n",
    "    total_samples = 0\n",
    "    mse_criterion = nn.MSELoss(reduction='mean')\n",
    "    mae_criterion = nn.L1Loss(reduction='mean')\n",
    "    \n",
    "    with torch.no_grad():\n",
    "        for batch_X, batch_y in loader:\n",
    "            batch_X, batch_y = batch_X.to(device), batch_y.to(device)\n",
    "            outputs = model(batch_X)\n",
    "            \n",
    "            outputs_original = torch.from_numpy(scaler_y.inverse_transform(outputs.cpu().numpy())).to(device)\n",
    "            batch_y_original = torch.from_numpy(scaler_y.inverse_transform(batch_y.cpu().numpy())).to(device)\n",
    "            \n",
    "            mse = mse_criterion(outputs_original, batch_y_original)\n",
    "            mae = mae_criterion(outputs_original, batch_y_original)\n",
    "            \n",
    "            total_mse += mse.item() * batch_y.size(0)\n",
    "            total_mae += mae.item() * batch_y.size(0)\n",
    "            total_samples += batch_y.size(0)\n",
    "    \n",
    "    mse = total_mse / total_samples\n",
    "    mae = total_mae / total_samples\n",
    "    print(f\"Original {dataset_name} MSE: {mse:.4f}, MAE: {mae:.4f}\")\n",
    "    return mse, mae\n",
    "\n",
    "pbar = tqdm(range(max_num_epochs), desc=\"Training Progress\")\n",
    "\n",
    "\n",
    "\n",
    "for epoch in pbar:\n",
    "    model.train()\n",
    "    train_loss = 0\n",
    "    for batch_X, batch_y in train_loader:\n",
    "        batch_X, batch_y = batch_X.to(device), batch_y.to(device)\n",
    "        \n",
    "        optimizer.zero_grad()\n",
    "        outputs = model(batch_X)\n",
    "        loss = nn.MSELoss()(outputs, batch_y)\n",
    "        loss.backward()\n",
    "        optimizer.step()\n",
    "        \n",
    "        train_loss += loss.item()\n",
    "    \n",
    "    train_loss /= len(train_loader)\n",
    "    \n",
    "    model.eval()\n",
    "    val_loss = 0\n",
    "    with torch.no_grad():\n",
    "        for batch_X, batch_y in val_loader:\n",
    "            batch_X, batch_y = batch_X.to(device), batch_y.to(device)\n",
    "            outputs = model(batch_X)\n",
    "            loss =  nn.MSELoss()(outputs, batch_y)\n",
    "            val_loss += loss.item()\n",
    "    \n",
    "    val_loss /= len(val_loader)\n",
    "    \n",
    "    pbar.set_postfix({\n",
    "        'Epoch': epoch+1,\n",
    "        'Train Loss': f'{train_loss:.4f}',\n",
    "        'Val Loss': f'{val_loss:.4f}'\n",
    "    })\n",
    "    \n",
    "    if (epoch + 1) % log_original_loss_every == 0:\n",
    "        train_mse, train_mae = calculate_original_losses(train_loader, model, scaler_y, \"Train\")\n",
    "        val_mse, val_mae = calculate_original_losses(val_loader, model, scaler_y, \"Val\")\n",
    "        test_mse, test_mae = calculate_original_losses(test_loader, model, scaler_y, \"Test\")\n",
    "    \n",
    "    if val_loss < best_val_loss:\n",
    "        best_val_loss = val_loss\n",
    "        torch.save(model.state_dict(), 'best_model.pth')\n",
    "        no_improve = 0\n",
    "    else:\n",
    "        no_improve += 1\n",
    "        if no_improve == patience:\n",
    "            print(\"\\nEarly stopping!\")\n",
    "            break"
   ]
  },
  {
   "cell_type": "markdown",
   "metadata": {},
   "source": [
    "## **Evaluate the model on Test Set**"
   ]
  },
  {
   "cell_type": "code",
   "execution_count": null,
   "metadata": {},
   "outputs": [],
   "source": [
    "# Set the model to evaluation mode\n",
    "model.eval()\n",
    "\n",
    "# Evaluate on test set\n",
    "test_mse, test_mae = calculate_original_losses(test_loader, model, scaler_y, \"Test\")\n",
    "\n",
    "print(f\"Final Test MSE: {test_mse:.4f}\")\n",
    "print(f\"Final Test MAE: {test_mae:.4f}\")"
   ]
  },
  {
   "cell_type": "markdown",
   "metadata": {},
   "source": [
    "## **Interactive Visulization**"
   ]
  },
  {
   "cell_type": "markdown",
   "metadata": {},
   "source": [
    "## **Save the Model**"
   ]
  },
  {
   "cell_type": "code",
   "execution_count": null,
   "metadata": {},
   "outputs": [],
   "source": [
    "unique_id = f\"{socket.gethostname()}_{datetime.now().strftime('%Y%m%d_%H%M%S')}\"\n",
    "dest_path = f\"saved_models/best_model_{unique_id}.pth\"\n",
    "\n",
    "os.makedirs('saved_models', exist_ok=True)\n",
    "!cp best_model.pth {dest_path}\n",
    "\n",
    "print(f\"Best model copied and saved as '{dest_path}'\")\n"
   ]
  },
  {
   "cell_type": "code",
   "execution_count": null,
   "metadata": {},
   "outputs": [],
   "source": []
  }
 ],
 "metadata": {
  "kernelspec": {
   "display_name": "Python 3 (ipykernel)",
   "language": "python",
   "name": "python3"
  },
  "language_info": {
   "codemirror_mode": {
    "name": "ipython",
    "version": 3
   },
   "file_extension": ".py",
   "mimetype": "text/x-python",
   "name": "python",
   "nbconvert_exporter": "python",
   "pygments_lexer": "ipython3",
   "version": "3.11.2"
  }
 },
 "nbformat": 4,
 "nbformat_minor": 4
}
