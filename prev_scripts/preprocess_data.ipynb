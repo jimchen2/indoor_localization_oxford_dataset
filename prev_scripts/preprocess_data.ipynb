{
 "cells": [
  {
   "cell_type": "code",
   "execution_count": 1,
   "metadata": {},
   "outputs": [],
   "source": [
    "import json\n",
    "import os\n",
    "import matplotlib\n",
    "import pickle\n",
    "import csv\n",
    "\n",
    "from helper_function.preprocess_data import DataPreprocessor"
   ]
  },
  {
   "cell_type": "code",
   "execution_count": 8,
   "metadata": {},
   "outputs": [],
   "source": [
    "path_1_data_preprocessor = DataPreprocessor(\n",
    "    \"data/raw/HKUST_cms_HKUST_v2_4F_Gary_Galaxy_S9+_23112023.proj/test1.path\",\n",
    ")"
   ]
  },
  {
   "cell_type": "code",
   "execution_count": 2,
   "metadata": {},
   "outputs": [],
   "source": [
    "def generate_project(project_name):\n",
    "    project_path = os.path.join(\"data\", \"raw\", project_name)\n",
    "    print(f\"processing proejct: {project_path}\")\n",
    "    path_names = [ f for f in os.listdir(project_path) if not os.path.isfile(os.path.join(project_path, f)) ]\n",
    "    header = [\"Bv\", \"Bh\", \"Bp\", \"x\", \"y\"]\n",
    "    for path_name in path_names:\n",
    "        path_path = os.path.join(project_path, path_name)\n",
    "        print(f\"processing path: {path_path}\")\n",
    "        data_preprocessor = DataPreprocessor(path_path)\n",
    "        for idx_of_sess in range(len(data_preprocessor.mag_feature)):\n",
    "            csv_data = [ x+y for x,y in zip(data_preprocessor.mag_feature[idx_of_sess], data_preprocessor.gt[idx_of_sess]) ]\n",
    "            csv_name = data_preprocessor.sess_name[idx_of_sess]+\".csv\"\n",
    "            path_folder_path = os.path.join(\"data\", \"formatted\", project_name, path_name)\n",
    "            if not os.path.exists(path_folder_path):\n",
    "                os.makedirs(path_folder_path)\n",
    "            file_path = os.path.join(path_folder_path, csv_name)\n",
    "            with open(file_path, 'w', newline='') as csvfile:\n",
    "                writer = csv.writer(csvfile)\n",
    "                writer.writerow(header)\n",
    "                writer.writerows(csv_data)"
   ]
  },
  {
   "cell_type": "code",
   "execution_count": 3,
   "metadata": {},
   "outputs": [
    {
     "name": "stdout",
     "output_type": "stream",
     "text": [
      "processing proejct: data\\raw\\WKCD_xiqu_WKCD_xiqu_GF_0919_peter.proj\n",
      "processing path: data\\raw\\WKCD_xiqu_WKCD_xiqu_GF_0919_peter.proj\\2023-09-19-10-45-30-998.path\n",
      "processing path: data\\raw\\WKCD_xiqu_WKCD_xiqu_GF_0919_peter.proj\\2023-09-19-10-46-09-079.path\n",
      "processing path: data\\raw\\WKCD_xiqu_WKCD_xiqu_GF_0919_peter.proj\\2023-09-19-10-46-25-545.path\n",
      "processing path: data\\raw\\WKCD_xiqu_WKCD_xiqu_GF_0919_peter.proj\\2023-09-19-10-46-56-794.path\n",
      "processing path: data\\raw\\WKCD_xiqu_WKCD_xiqu_GF_0919_peter.proj\\2023-09-19-10-47-16-185.path\n",
      "processing path: data\\raw\\WKCD_xiqu_WKCD_xiqu_GF_0919_peter.proj\\2023-09-19-10-47-40-430.path\n",
      "processing path: data\\raw\\WKCD_xiqu_WKCD_xiqu_GF_0919_peter.proj\\2023-09-19-10-48-20-055.path\n",
      "processing path: data\\raw\\WKCD_xiqu_WKCD_xiqu_GF_0919_peter.proj\\2023-09-19-10-49-02-644.path\n",
      "processing path: data\\raw\\WKCD_xiqu_WKCD_xiqu_GF_0919_peter.proj\\2023-09-19-10-50-35-829.path\n",
      "processing path: data\\raw\\WKCD_xiqu_WKCD_xiqu_GF_0919_peter.proj\\2023-09-19-10-51-31-524.path\n",
      "processing path: data\\raw\\WKCD_xiqu_WKCD_xiqu_GF_0919_peter.proj\\2023-09-19-10-54-06-921.path\n",
      "processing path: data\\raw\\WKCD_xiqu_WKCD_xiqu_GF_0919_peter.proj\\2023-09-19-10-54-16-706.path\n",
      "processing path: data\\raw\\WKCD_xiqu_WKCD_xiqu_GF_0919_peter.proj\\2023-09-19-10-55-01-636.path\n",
      "processing path: data\\raw\\WKCD_xiqu_WKCD_xiqu_GF_0919_peter.proj\\2023-09-19-10-55-54-467.path\n",
      "processing path: data\\raw\\WKCD_xiqu_WKCD_xiqu_GF_0919_peter.proj\\2023-09-19-10-56-10-369.path\n",
      "processing path: data\\raw\\WKCD_xiqu_WKCD_xiqu_GF_0919_peter.proj\\2023-09-19-10-56-37-948.path\n",
      "processing path: data\\raw\\WKCD_xiqu_WKCD_xiqu_GF_0919_peter.proj\\2023-09-19-10-57-12-864.path\n",
      "processing path: data\\raw\\WKCD_xiqu_WKCD_xiqu_GF_0919_peter.proj\\2023-09-19-10-57-45-545.path\n",
      "processing path: data\\raw\\WKCD_xiqu_WKCD_xiqu_GF_0919_peter.proj\\2023-09-19-10-58-00-982.path\n",
      "processing path: data\\raw\\WKCD_xiqu_WKCD_xiqu_GF_0919_peter.proj\\2023-09-19-11-02-17-461.path\n",
      "processing path: data\\raw\\WKCD_xiqu_WKCD_xiqu_GF_0919_peter.proj\\2023-09-19-11-02-36-562.path\n",
      "processing path: data\\raw\\WKCD_xiqu_WKCD_xiqu_GF_0919_peter.proj\\2023-09-19-11-03-02-685.path\n",
      "processing path: data\\raw\\WKCD_xiqu_WKCD_xiqu_GF_0919_peter.proj\\2023-09-19-11-03-13-389.path\n",
      "processing path: data\\raw\\WKCD_xiqu_WKCD_xiqu_GF_0919_peter.proj\\2023-09-19-11-03-24-977.path\n",
      "processing path: data\\raw\\WKCD_xiqu_WKCD_xiqu_GF_0919_peter.proj\\2023-09-19-11-04-09-519.path\n",
      "processing path: data\\raw\\WKCD_xiqu_WKCD_xiqu_GF_0919_peter.proj\\2023-09-19-11-04-29-470.path\n",
      "processing path: data\\raw\\WKCD_xiqu_WKCD_xiqu_GF_0919_peter.proj\\2023-09-19-11-04-40-309.path\n",
      "processing path: data\\raw\\WKCD_xiqu_WKCD_xiqu_GF_0919_peter.proj\\2023-09-19-11-04-46-296.path\n",
      "processing path: data\\raw\\WKCD_xiqu_WKCD_xiqu_GF_0919_peter.proj\\2023-09-19-11-05-34-413.path\n",
      "processing path: data\\raw\\WKCD_xiqu_WKCD_xiqu_GF_0919_peter.proj\\2023-09-19-11-07-06-781.path\n",
      "processing path: data\\raw\\WKCD_xiqu_WKCD_xiqu_GF_0919_peter.proj\\2023-09-19-11-07-15-977.path\n",
      "processing path: data\\raw\\WKCD_xiqu_WKCD_xiqu_GF_0919_peter.proj\\2023-09-19-11-08-03-580.path\n",
      "processing path: data\\raw\\WKCD_xiqu_WKCD_xiqu_GF_0919_peter.proj\\2023-09-19-11-08-13-105.path\n",
      "processing path: data\\raw\\WKCD_xiqu_WKCD_xiqu_GF_0919_peter.proj\\2023-09-19-11-08-21-351.path\n",
      "processing path: data\\raw\\WKCD_xiqu_WKCD_xiqu_GF_0919_peter.proj\\2023-09-19-11-08-47-945.path\n",
      "processing path: data\\raw\\WKCD_xiqu_WKCD_xiqu_GF_0919_peter.proj\\2023-09-19-11-10-13-262.path\n",
      "processing path: data\\raw\\WKCD_xiqu_WKCD_xiqu_GF_0919_peter.proj\\2023-09-19-11-10-26-123.path\n",
      "processing path: data\\raw\\WKCD_xiqu_WKCD_xiqu_GF_0919_peter.proj\\2023-09-19-11-10-37-012.path\n",
      "processing path: data\\raw\\WKCD_xiqu_WKCD_xiqu_GF_0919_peter.proj\\2023-09-19-11-10-53-286.path\n",
      "processing path: data\\raw\\WKCD_xiqu_WKCD_xiqu_GF_0919_peter.proj\\2023-09-19-11-11-29-366.path\n",
      "processing path: data\\raw\\WKCD_xiqu_WKCD_xiqu_GF_0919_peter.proj\\2023-09-19-11-12-28-757.path\n",
      "processing path: data\\raw\\WKCD_xiqu_WKCD_xiqu_GF_0919_peter.proj\\2023-09-19-11-12-37-355.path\n",
      "processing path: data\\raw\\WKCD_xiqu_WKCD_xiqu_GF_0919_peter.proj\\2023-09-19-11-12-47-891.path\n",
      "processing path: data\\raw\\WKCD_xiqu_WKCD_xiqu_GF_0919_peter.proj\\2023-09-19-11-12-58-165.path\n",
      "processing path: data\\raw\\WKCD_xiqu_WKCD_xiqu_GF_0919_peter.proj\\2023-09-19-11-13-07-880.path\n",
      "processing path: data\\raw\\WKCD_xiqu_WKCD_xiqu_GF_0919_peter.proj\\2023-09-19-11-13-16-396.path\n",
      "processing path: data\\raw\\WKCD_xiqu_WKCD_xiqu_GF_0919_peter.proj\\2023-09-19-11-13-24-825.path\n",
      "processing path: data\\raw\\WKCD_xiqu_WKCD_xiqu_GF_0919_peter.proj\\2023-09-19-11-13-33-322.path\n",
      "processing path: data\\raw\\WKCD_xiqu_WKCD_xiqu_GF_0919_peter.proj\\2023-09-19-11-13-44-463.path\n",
      "processing path: data\\raw\\WKCD_xiqu_WKCD_xiqu_GF_0919_peter.proj\\2023-09-24-11-58-05-918.path\n",
      "processing path: data\\raw\\WKCD_xiqu_WKCD_xiqu_GF_0919_peter.proj\\2023-09-24-12-06-34-890.path\n",
      "processing path: data\\raw\\WKCD_xiqu_WKCD_xiqu_GF_0919_peter.proj\\2023-09-24-12-41-17-684.path\n"
     ]
    }
   ],
   "source": [
    "project_names = [\n",
    "    \"WKCD_xiqu_WKCD_xiqu_GF_0919_peter.proj\",\n",
    "    # \"WKCD_xiqu_WKCD_xiqu_L1_0924_ivy.proj\",\n",
    "    # \"WKCD_xiqu_WKCD_xiqu_L1_0924.proj\",\n",
    "    # \"WKCD_xiqu_WKCD_xiqu_L2_0923.proj\",\n",
    "    # \"WKCD_xiqu_WKCD_xiqu_L2_0924.proj\"\n",
    "]\n",
    "for project_name in project_names:\n",
    "    generate_project(project_name)"
   ]
  },
  {
   "cell_type": "code",
   "execution_count": 2,
   "metadata": {},
   "outputs": [],
   "source": [
    "testing_path = \"data/raw/HKUST_fusion_HKUST_2F_20230810_Gary.proj/2023-08-10-15-01-53-555.path\"\n",
    "data_preprocessor = DataPreprocessor(testing_path)\n"
   ]
  },
  {
   "cell_type": "code",
   "execution_count": 8,
   "metadata": {},
   "outputs": [
    {
     "data": {
      "text/plain": [
       "[[2819.8975849878934, 1796.6416847457626],\n",
       " [2830.303751251009, 1790.4645096045197],\n",
       " [2840.7099175141243, 1784.2873344632767],\n",
       " [2851.1160837772395, 1778.110159322034],\n",
       " [2861.522250040355, 1771.932984180791],\n",
       " [2871.9284163034704, 1765.755809039548],\n",
       " [2882.334582566586, 1759.578633898305],\n",
       " [2892.7407488297013, 1753.4014587570623],\n",
       " [2903.146915092817, 1747.2242836158193],\n",
       " [2913.553081355932, 1741.0471084745764],\n",
       " [2923.9592476190473, 1734.8699333333334],\n",
       " [2934.365413882163, 1728.6927581920904],\n",
       " [2944.7715801452787, 1722.5155830508475],\n",
       " [2955.177746408394, 1716.3384079096045],\n",
       " [2965.583912671509, 1710.1612327683615],\n",
       " [2975.9900789346248, 1703.9840576271185],\n",
       " [2986.39624519774, 1697.8068824858758],\n",
       " [2996.8024114608556, 1691.6297073446328],\n",
       " [3007.208577723971, 1685.4525322033899],\n",
       " [3017.6147439870865, 1679.275357062147],\n",
       " [3028.0209102502017, 1673.098181920904],\n",
       " [3038.4270765133174, 1666.921006779661],\n",
       " [3048.8332427764326, 1660.7438316384182],\n",
       " [3059.2394090395483, 1654.5666564971752],\n",
       " [3069.6455753026635, 1648.3894813559323],\n",
       " [3080.0517415657787, 1642.2123062146893],\n",
       " [3090.4579078288943, 1636.0351310734463],\n",
       " [2970.863991767484, 1796.1835705651379],\n",
       " [2976.4606840267325, 1796.1597662945176],\n",
       " [2982.057376285981, 1796.1359620238975],\n",
       " [2987.654068545229, 1796.1121577532774],\n",
       " [2993.2507608044775, 1796.0883534826573],\n",
       " [2998.847453063726, 1796.064549212037],\n",
       " [3004.4441453229742, 1796.040744941417],\n",
       " [3010.0408375822226, 1796.0169406707969],\n",
       " [3015.637529841471, 1795.9931364001768],\n",
       " [3021.2342221007193, 1795.9693321295565],\n",
       " [3026.8309143599677, 1795.9455278589364],\n",
       " [3032.4276066192165, 1795.9217235883164],\n",
       " [3038.024298878465, 1795.897919317696],\n",
       " [3043.620991137713, 1795.874115047076],\n",
       " [3049.2176833969615, 1795.850310776456],\n",
       " [3054.81437565621, 1795.8265065058358],\n",
       " [3060.4110679154583, 1795.8027022352155],\n",
       " [3066.0077601747066, 1795.7788979645954],\n",
       " [3071.604452433955, 1795.7550936939754],\n",
       " [3077.2011446932033, 1795.7312894233553],\n",
       " [3082.7978369524517, 1795.707485152735],\n",
       " [3088.3945292117, 1795.683680882115],\n",
       " [3093.9912214709484, 1795.6598766114948]]"
      ]
     },
     "execution_count": 8,
     "metadata": {},
     "output_type": "execute_result"
    }
   ],
   "source": [
    "[d for i,d in enumerate(data_preprocessor.gt[0]) if not i%50]"
   ]
  }
 ],
 "metadata": {
  "kernelspec": {
   "display_name": "Python 3",
   "language": "python",
   "name": "python3"
  },
  "language_info": {
   "codemirror_mode": {
    "name": "ipython",
    "version": 3
   },
   "file_extension": ".py",
   "mimetype": "text/x-python",
   "name": "python",
   "nbconvert_exporter": "python",
   "pygments_lexer": "ipython3",
   "version": "3.8.10"
  },
  "orig_nbformat": 4
 },
 "nbformat": 4,
 "nbformat_minor": 2
}
